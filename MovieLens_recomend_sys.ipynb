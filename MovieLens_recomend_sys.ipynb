{
 "cells": [
  {
   "cell_type": "markdown",
   "metadata": {
    "colab_type": "text",
    "id": "view-in-github"
   },
   "source": [
    "<a href=\"https://colab.research.google.com/github/dviva1972/denvlaiva/blob/master/ML_RS_hw3_1.ipynb\" target=\"_parent\"><img src=\"https://colab.research.google.com/assets/colab-badge.svg\" alt=\"Open In Colab\"/></a>"
   ]
  },
  {
   "cell_type": "markdown",
   "metadata": {
    "id": "hPXwaRL-qoFn"
   },
   "source": [
    "Иванов Денис"
   ]
  },
  {
   "cell_type": "markdown",
   "metadata": {
    "id": "6z-rqikKqqME"
   },
   "source": [
    "###  MovieLense:  рекомендательная система кинофильмов"
   ]
  },
  {
   "cell_type": "markdown",
   "metadata": {
    "id": "dkS1YB10qqII"
   },
   "source": [
    "**Краткое описание работы рекомендательной системы:**\n",
    "\n",
    "**Rough selection**\n",
    "\n",
    "Для рекомендательной системы выбраны только сведения о следующих фильмах:\n",
    "- фильму проставлено хотя бы 10 оценок (исключаем редкие фильмы)\n",
    "- медиана оценок фильма >=4 (исключаем фильмы рейтинга - ниже среднего допустимого / заботимся о репутации рейтинговой системы)\n",
    "- оценки фильма соответствуют четвертому (лучшему) квартилю хотя бы 10 пользователей (если не так, то пользователи особых восторгов по фильму не испытывали и не стали бы его рекомендовать.)\n",
    "- из состава анализируемых тэгов исключены словосочетания, встречающиеся менее 50 раз\n",
    "\n",
    "**Poor selection**\n",
    "\n",
    "По модели ALS (Юзер / Фильм / Рейтинг)  на всей выборке после Rough selection отобраны:\n",
    "- по 100 фильмов наиболее похожих на последние 5 понравившихся фильмов рассматриваемого Пользователя (итого 500):\n",
    "- 500 users, наиболее похожих на рассматриваемого Пользователя\n",
    "\n",
    "На следующий этап отбора проходят только записи, относящиеся к полученной выборке.\n",
    "\n",
    "**Model selection**\n",
    "\n",
    "В отношении следующих баз данных:\n",
    "\n",
    "- Юзер / Фильм / Рейтинг\n",
    "- Тэг / Фильм / Медиана рейтинга по фильму\n",
    "- Жанр / Фильм / Медиана рейтинга по фильму\n",
    "(под Жанром понимаются каждый из признаков в составе movies.genres, а также агрегированные до 5+ лет сведения о годе выпуска фильма в составе movies.title)\n",
    "\n",
    "по итогам применения каждой из следующих моделей Surprise:\n",
    "- SlopeOne(), \n",
    "- SVD(), \n",
    "- BaselineOnly()\n",
    "(или других каких нибудь сочетаний 2-3 моделей)\n",
    "\n",
    "подобрано по 5 наиболее подходящих фильмов, при том что:\n",
    "- самому подходящему (из каждых 5) присвоено 5 баллов \n",
    "- наименее подходящему  - 1 балл (между - пропорционально)\n",
    "\n",
    "дополнительно по итогам работы модели ALS по 5 баллов присвоено фильмам:\n",
    "- самому похожему фильму на каждый из 5 последних фильмов (понравившихся Пользователю)\n",
    "- последний фильм с наивысшей оценкой для каждого из 5 наиболее похожих пользователей\n",
    "\n",
    "В состав рекомендации попали 5 фильмов, набравших наибольшее количество баллов\n"
   ]
  },
  {
   "cell_type": "code",
   "execution_count": 1,
   "metadata": {
    "id": "A26bollh4Dbe"
   },
   "outputs": [],
   "source": [
    "import pandas as pd\n",
    "import numpy as np\n",
    "import re\n",
    "\n",
    "from collections import defaultdict\n",
    "\n",
    "from warnings import filterwarnings \n",
    "filterwarnings('ignore')"
   ]
  },
  {
   "cell_type": "code",
   "execution_count": 2,
   "metadata": {
    "colab": {
     "base_uri": "https://localhost:8080/"
    },
    "id": "KrvqSx_E48p5",
    "outputId": "3440450a-e566-4f7d-d5c4-d2440a451f78"
   },
   "outputs": [
    {
     "name": "stdout",
     "output_type": "stream",
     "text": [
      "Collecting surprise\n",
      "  Downloading https://files.pythonhosted.org/packages/61/de/e5cba8682201fcf9c3719a6fdda95693468ed061945493dea2dd37c5618b/surprise-0.1-py2.py3-none-any.whl\n",
      "Collecting scikit-surprise\n",
      "\u001b[?25l  Downloading https://files.pythonhosted.org/packages/97/37/5d334adaf5ddd65da99fc65f6507e0e4599d092ba048f4302fe8775619e8/scikit-surprise-1.1.1.tar.gz (11.8MB)\n",
      "\u001b[K     |████████████████████████████████| 11.8MB 14.9MB/s \n",
      "\u001b[?25hRequirement already satisfied: joblib>=0.11 in /usr/local/lib/python3.6/dist-packages (from scikit-surprise->surprise) (0.17.0)\n",
      "Requirement already satisfied: numpy>=1.11.2 in /usr/local/lib/python3.6/dist-packages (from scikit-surprise->surprise) (1.18.5)\n",
      "Requirement already satisfied: scipy>=1.0.0 in /usr/local/lib/python3.6/dist-packages (from scikit-surprise->surprise) (1.4.1)\n",
      "Requirement already satisfied: six>=1.10.0 in /usr/local/lib/python3.6/dist-packages (from scikit-surprise->surprise) (1.15.0)\n",
      "Building wheels for collected packages: scikit-surprise\n",
      "  Building wheel for scikit-surprise (setup.py) ... \u001b[?25l\u001b[?25hdone\n",
      "  Created wheel for scikit-surprise: filename=scikit_surprise-1.1.1-cp36-cp36m-linux_x86_64.whl size=1670909 sha256=e89a09774378cc2ac4e988c5d1ca3bec0ae10a236e370a68333e31e0aa520df4\n",
      "  Stored in directory: /root/.cache/pip/wheels/78/9c/3d/41b419c9d2aff5b6e2b4c0fc8d25c538202834058f9ed110d0\n",
      "Successfully built scikit-surprise\n",
      "Installing collected packages: scikit-surprise, surprise\n",
      "Successfully installed scikit-surprise-1.1.1 surprise-0.1\n"
     ]
    }
   ],
   "source": [
    "pip install surprise"
   ]
  },
  {
   "cell_type": "code",
   "execution_count": 7,
   "metadata": {
    "id": "llUCG2bS4Dbe"
   },
   "outputs": [],
   "source": [
    "from surprise import KNNBasic, SlopeOne, BaselineOnly, SVD\n",
    "from surprise import Dataset\n",
    "from surprise import Reader"
   ]
  },
  {
   "cell_type": "code",
   "execution_count": 8,
   "metadata": {
    "colab": {
     "base_uri": "https://localhost:8080/"
    },
    "id": "9-JoJcnZVvz8",
    "outputId": "9342294b-0c7d-49c2-be58-12c0a6df598d"
   },
   "outputs": [
    {
     "name": "stdout",
     "output_type": "stream",
     "text": [
      "Collecting implicit\n",
      "  Using cached https://files.pythonhosted.org/packages/bc/07/c0121884722d16e2c5beeb815f6b84b41cbf22e738e4075f1475be2791bc/implicit-0.4.4.tar.gz\n",
      "Requirement already satisfied: numpy in /usr/local/lib/python3.6/dist-packages (from implicit) (1.18.5)\n",
      "Requirement already satisfied: scipy>=0.16 in /usr/local/lib/python3.6/dist-packages (from implicit) (1.4.1)\n",
      "Requirement already satisfied: tqdm>=4.27 in /usr/local/lib/python3.6/dist-packages (from implicit) (4.41.1)\n",
      "Building wheels for collected packages: implicit\n",
      "  Building wheel for implicit (setup.py) ... \u001b[?25l\u001b[?25hdone\n",
      "  Created wheel for implicit: filename=implicit-0.4.4-cp36-cp36m-linux_x86_64.whl size=3419392 sha256=7f1b4fb2222e7485f7ba9755ef5f6259898d628069c43a51656172dd45ccfd0f\n",
      "  Stored in directory: /root/.cache/pip/wheels/bf/d4/ec/fd4f622fcbefb7521f149905295b2c26adecb23af38aa28217\n",
      "Successfully built implicit\n",
      "Installing collected packages: implicit\n",
      "Successfully installed implicit-0.4.4\n"
     ]
    }
   ],
   "source": [
    "pip install implicit"
   ]
  },
  {
   "cell_type": "code",
   "execution_count": 9,
   "metadata": {
    "id": "OmJO8Y0cVv30"
   },
   "outputs": [],
   "source": [
    "import scipy.sparse as sparse\n",
    "from implicit.als import AlternatingLeastSquares"
   ]
  },
  {
   "cell_type": "code",
   "execution_count": 10,
   "metadata": {
    "id": "HoRqFnEg4Uzd"
   },
   "outputs": [],
   "source": [
    "import zipfile \n",
    "import os      \n",
    "from google.colab import drive "
   ]
  },
  {
   "cell_type": "code",
   "execution_count": 11,
   "metadata": {
    "colab": {
     "base_uri": "https://localhost:8080/"
    },
    "id": "FZb3uwlH4aLx",
    "outputId": "be56965f-79a8-42cd-f876-f37bb832d921"
   },
   "outputs": [
    {
     "name": "stdout",
     "output_type": "stream",
     "text": [
      "Mounted at /content/drive\n"
     ]
    }
   ],
   "source": [
    "drive.mount('/content/drive')"
   ]
  },
  {
   "cell_type": "code",
   "execution_count": 12,
   "metadata": {
    "colab": {
     "base_uri": "https://localhost:8080/"
    },
    "id": "YqL8Nzmj4dE9",
    "outputId": "d69200bb-c17d-4bae-fd7f-518c56341a95"
   },
   "outputs": [
    {
     "name": "stdout",
     "output_type": "stream",
     "text": [
      "File Name                                             Modified             Size\n",
      "ml-latest/                                     2018-09-26 16:46:50            0\n",
      "ml-latest/links.csv                            2018-09-26 16:37:10      1267039\n",
      "ml-latest/tags.csv                             2018-09-26 16:11:24     39744990\n",
      "ml-latest/genome-tags.csv                      2018-09-26 16:44:04        18103\n",
      "ml-latest/ratings.csv                          2018-09-26 16:31:52    759200511\n",
      "ml-latest/README.txt                           2018-09-26 16:46:50         9784\n",
      "ml-latest/genome-scores.csv                    2018-09-26 16:44:04    414851573\n",
      "ml-latest/movies.csv                           2018-09-26 16:35:42      2858223\n"
     ]
    }
   ],
   "source": [
    "zip_file = '/content/drive/My Drive/ml-latest.zip'  \n",
    "\n",
    "z = zipfile.ZipFile(zip_file, 'r')\n",
    "z.extractall()\n",
    "z.printdir()"
   ]
  },
  {
   "cell_type": "markdown",
   "metadata": {
    "id": "89WUClRs4Dbe"
   },
   "source": [
    "\n",
    "Rough selection\n"
   ]
  },
  {
   "cell_type": "code",
   "execution_count": 13,
   "metadata": {
    "colab": {
     "base_uri": "https://localhost:8080/",
     "height": 76
    },
    "id": "lgVAY6WI4Dbe",
    "outputId": "c8489848-3ccc-445b-e099-fe9f0d231161"
   },
   "outputs": [
    {
     "data": {
      "text/html": [
       "<div>\n",
       "<style scoped>\n",
       "    .dataframe tbody tr th:only-of-type {\n",
       "        vertical-align: middle;\n",
       "    }\n",
       "\n",
       "    .dataframe tbody tr th {\n",
       "        vertical-align: top;\n",
       "    }\n",
       "\n",
       "    .dataframe thead th {\n",
       "        text-align: right;\n",
       "    }\n",
       "</style>\n",
       "<table border=\"1\" class=\"dataframe\">\n",
       "  <thead>\n",
       "    <tr style=\"text-align: right;\">\n",
       "      <th></th>\n",
       "      <th>userId</th>\n",
       "      <th>movieId</th>\n",
       "      <th>rating</th>\n",
       "      <th>timestamp</th>\n",
       "    </tr>\n",
       "  </thead>\n",
       "  <tbody>\n",
       "    <tr>\n",
       "      <th>0</th>\n",
       "      <td>1</td>\n",
       "      <td>307</td>\n",
       "      <td>3.5</td>\n",
       "      <td>1256677221</td>\n",
       "    </tr>\n",
       "  </tbody>\n",
       "</table>\n",
       "</div>"
      ],
      "text/plain": [
       "   userId  movieId  rating   timestamp\n",
       "0       1      307     3.5  1256677221"
      ]
     },
     "execution_count": 13,
     "metadata": {
      "tags": []
     },
     "output_type": "execute_result"
    }
   ],
   "source": [
    "movies  = pd.read_csv('ml-latest/movies.csv')\n",
    "ratings = pd.read_csv('ml-latest/ratings.csv')\n",
    "tags    = pd.read_csv('ml-latest/tags.csv')\n",
    "ratings.head(1)"
   ]
  },
  {
   "cell_type": "code",
   "execution_count": 14,
   "metadata": {
    "colab": {
     "base_uri": "https://localhost:8080/"
    },
    "id": "ay-iiQK4QOfe",
    "outputId": "5b6a986f-9f2f-4dcf-c741-59328bb3bab7"
   },
   "outputs": [
    {
     "data": {
      "text/plain": [
       "((27753444, 4), (58098, 3), (1108997, 4))"
      ]
     },
     "execution_count": 14,
     "metadata": {
      "tags": []
     },
     "output_type": "execute_result"
    }
   ],
   "source": [
    "ratings.shape, movies.shape, tags.shape"
   ]
  },
  {
   "cell_type": "markdown",
   "metadata": {
    "id": "r1AU6iRqacbj"
   },
   "source": [
    "Из состава выборки рекомендуемых фильмов исключаем средние и плохие фильмы (медианный рейтинг меньше 4)"
   ]
  },
  {
   "cell_type": "code",
   "execution_count": 15,
   "metadata": {
    "colab": {
     "base_uri": "https://localhost:8080/"
    },
    "id": "3SuZDt1ZEaWs",
    "outputId": "41fecfb7-d341-4172-9f17-a6926a5fba73"
   },
   "outputs": [
    {
     "data": {
      "text/plain": [
       "10202"
      ]
     },
     "execution_count": 15,
     "metadata": {
      "tags": []
     },
     "output_type": "execute_result"
    }
   ],
   "source": [
    "medi_ratings  = ratings.groupby(by='movieId').rating.median()\n",
    "select_movies_1 = medi_ratings[medi_ratings >=4].index.tolist()\n",
    "len(select_movies_1)"
   ]
  },
  {
   "cell_type": "markdown",
   "metadata": {
    "id": "SlZofPKYbAOH"
   },
   "source": [
    "Из состава выборки рекомендуемых фильмов исключаем редкие фильмы (менее  10 оценок)"
   ]
  },
  {
   "cell_type": "code",
   "execution_count": 16,
   "metadata": {
    "colab": {
     "base_uri": "https://localhost:8080/"
    },
    "id": "QnEWV2TnEag_",
    "outputId": "ae3edc7c-e732-4292-b941-57ba1dbc7801"
   },
   "outputs": [
    {
     "data": {
      "text/plain": [
       "22856"
      ]
     },
     "execution_count": 16,
     "metadata": {
      "tags": []
     },
     "output_type": "execute_result"
    }
   ],
   "source": [
    "select_movies_2 = ratings.movieId.value_counts()[ratings.movieId.value_counts()>10].index.tolist()\n",
    "len(select_movies_2)"
   ]
  },
  {
   "cell_type": "markdown",
   "metadata": {
    "id": "yhPHaerKbOq9"
   },
   "source": [
    "В состав рекомендаций системы могут попасть фильмы, которые кому то уже (очень) понравились, то есть оценка за фильм должна находится в лучшем / четвертом квартиле оценок хотя бы одного пользователя. Если фильм никому не понравился - исключаем из выборки."
   ]
  },
  {
   "cell_type": "code",
   "execution_count": 17,
   "metadata": {
    "id": "wVN0ACOOEaa8"
   },
   "outputs": [],
   "source": [
    "ratings = pd.merge(ratings,\n",
    "                   ratings.groupby('userId').rating.quantile(0.75),\n",
    "                   how = 'left',\n",
    "                   left_on  = ['userId'],\n",
    "                   right_on  = ['userId']) "
   ]
  },
  {
   "cell_type": "code",
   "execution_count": 18,
   "metadata": {
    "colab": {
     "base_uri": "https://localhost:8080/",
     "height": 76
    },
    "id": "EeUhjlRUJOHP",
    "outputId": "dda4686d-e2f4-4862-e170-0743302efd70"
   },
   "outputs": [
    {
     "data": {
      "text/html": [
       "<div>\n",
       "<style scoped>\n",
       "    .dataframe tbody tr th:only-of-type {\n",
       "        vertical-align: middle;\n",
       "    }\n",
       "\n",
       "    .dataframe tbody tr th {\n",
       "        vertical-align: top;\n",
       "    }\n",
       "\n",
       "    .dataframe thead th {\n",
       "        text-align: right;\n",
       "    }\n",
       "</style>\n",
       "<table border=\"1\" class=\"dataframe\">\n",
       "  <thead>\n",
       "    <tr style=\"text-align: right;\">\n",
       "      <th></th>\n",
       "      <th>userId</th>\n",
       "      <th>movieId</th>\n",
       "      <th>rating_x</th>\n",
       "      <th>timestamp</th>\n",
       "      <th>rating_y</th>\n",
       "    </tr>\n",
       "  </thead>\n",
       "  <tbody>\n",
       "    <tr>\n",
       "      <th>0</th>\n",
       "      <td>1</td>\n",
       "      <td>307</td>\n",
       "      <td>3.5</td>\n",
       "      <td>1256677221</td>\n",
       "      <td>4.125</td>\n",
       "    </tr>\n",
       "  </tbody>\n",
       "</table>\n",
       "</div>"
      ],
      "text/plain": [
       "   userId  movieId  rating_x   timestamp  rating_y\n",
       "0       1      307       3.5  1256677221     4.125"
      ]
     },
     "execution_count": 18,
     "metadata": {
      "tags": []
     },
     "output_type": "execute_result"
    }
   ],
   "source": [
    "ratings.head(1)"
   ]
  },
  {
   "cell_type": "code",
   "execution_count": 19,
   "metadata": {
    "colab": {
     "base_uri": "https://localhost:8080/"
    },
    "id": "ppRPKD3OKuoR",
    "outputId": "e28db0f0-c903-4090-9cdd-7281be32814c"
   },
   "outputs": [
    {
     "data": {
      "text/plain": [
       "(27753444, 5)"
      ]
     },
     "execution_count": 19,
     "metadata": {
      "tags": []
     },
     "output_type": "execute_result"
    }
   ],
   "source": [
    "ratings.shape"
   ]
  },
  {
   "cell_type": "code",
   "execution_count": 20,
   "metadata": {
    "id": "2hgsvQEoEalU"
   },
   "outputs": [],
   "source": [
    "ratings = ratings[ratings.rating_x > ratings.rating_y ]"
   ]
  },
  {
   "cell_type": "code",
   "execution_count": 21,
   "metadata": {
    "colab": {
     "base_uri": "https://localhost:8080/"
    },
    "id": "sFonpGxPLFZw",
    "outputId": "5695e8ec-d4b7-4d54-ec4a-7415e7570aec"
   },
   "outputs": [
    {
     "data": {
      "text/plain": [
       "27054"
      ]
     },
     "execution_count": 21,
     "metadata": {
      "tags": []
     },
     "output_type": "execute_result"
    }
   ],
   "source": [
    "select_movies_3 = ratings.movieId.unique().tolist()\n",
    "len(select_movies_3)"
   ]
  },
  {
   "cell_type": "markdown",
   "metadata": {
    "id": "JRU-OIm1cD70"
   },
   "source": [
    "Исключаем из всех выборок фильмы по критериям, указанным выше"
   ]
  },
  {
   "cell_type": "code",
   "execution_count": 22,
   "metadata": {
    "id": "lxL8sg5BOhmb"
   },
   "outputs": [],
   "source": [
    "select_movies = set(select_movies_1 + select_movies_2 + select_movies_3)"
   ]
  },
  {
   "cell_type": "code",
   "execution_count": 23,
   "metadata": {
    "colab": {
     "base_uri": "https://localhost:8080/"
    },
    "id": "0HaUJzUTLFdL",
    "outputId": "29ce0c4e-c6ad-4b17-ad3f-2d07b2923c03"
   },
   "outputs": [
    {
     "data": {
      "text/plain": [
       "((3555325, 5), (31910, 3), (1038493, 4))"
      ]
     },
     "execution_count": 23,
     "metadata": {
      "tags": []
     },
     "output_type": "execute_result"
    }
   ],
   "source": [
    "ratings = ratings[ratings.movieId.isin(select_movies)]\n",
    "movies  = movies[movies.movieId.isin(select_movies)]\n",
    "tags    = tags[tags.movieId.isin(select_movies)]\n",
    "\n",
    "ratings.shape, movies.shape, tags.shape"
   ]
  },
  {
   "cell_type": "markdown",
   "metadata": {
    "id": "H8QQNVwnm7UL"
   },
   "source": [
    "Feature selection"
   ]
  },
  {
   "cell_type": "markdown",
   "metadata": {
    "id": "C8ygHX8DSFOq"
   },
   "source": [
    "Movies"
   ]
  },
  {
   "cell_type": "markdown",
   "metadata": {
    "id": "hgtGeW_84Dbe"
   },
   "source": [
    "Представим себе, что каждый жанр, указанный в поле genres -  это тэг,  и сделаем:"
   ]
  },
  {
   "cell_type": "code",
   "execution_count": 24,
   "metadata": {
    "id": "lbaWe7HC4Dbe"
   },
   "outputs": [],
   "source": [
    "genres_vect = movies[\"genres\"].str.get_dummies(\"|\").iloc[:,1:]"
   ]
  },
  {
   "cell_type": "code",
   "execution_count": 25,
   "metadata": {
    "colab": {
     "base_uri": "https://localhost:8080/",
     "height": 76
    },
    "id": "2t5Daewd4Dbe",
    "outputId": "0a751768-6361-442c-d283-c87a6e455f06"
   },
   "outputs": [
    {
     "data": {
      "text/html": [
       "<div>\n",
       "<style scoped>\n",
       "    .dataframe tbody tr th:only-of-type {\n",
       "        vertical-align: middle;\n",
       "    }\n",
       "\n",
       "    .dataframe tbody tr th {\n",
       "        vertical-align: top;\n",
       "    }\n",
       "\n",
       "    .dataframe thead th {\n",
       "        text-align: right;\n",
       "    }\n",
       "</style>\n",
       "<table border=\"1\" class=\"dataframe\">\n",
       "  <thead>\n",
       "    <tr style=\"text-align: right;\">\n",
       "      <th></th>\n",
       "      <th>Action</th>\n",
       "      <th>Adventure</th>\n",
       "      <th>Animation</th>\n",
       "      <th>Children</th>\n",
       "      <th>Comedy</th>\n",
       "      <th>Crime</th>\n",
       "      <th>Documentary</th>\n",
       "      <th>Drama</th>\n",
       "      <th>Fantasy</th>\n",
       "      <th>Film-Noir</th>\n",
       "      <th>Horror</th>\n",
       "      <th>IMAX</th>\n",
       "      <th>Musical</th>\n",
       "      <th>Mystery</th>\n",
       "      <th>Romance</th>\n",
       "      <th>Sci-Fi</th>\n",
       "      <th>Thriller</th>\n",
       "      <th>War</th>\n",
       "      <th>Western</th>\n",
       "    </tr>\n",
       "  </thead>\n",
       "  <tbody>\n",
       "    <tr>\n",
       "      <th>0</th>\n",
       "      <td>0</td>\n",
       "      <td>1</td>\n",
       "      <td>1</td>\n",
       "      <td>1</td>\n",
       "      <td>1</td>\n",
       "      <td>0</td>\n",
       "      <td>0</td>\n",
       "      <td>0</td>\n",
       "      <td>1</td>\n",
       "      <td>0</td>\n",
       "      <td>0</td>\n",
       "      <td>0</td>\n",
       "      <td>0</td>\n",
       "      <td>0</td>\n",
       "      <td>0</td>\n",
       "      <td>0</td>\n",
       "      <td>0</td>\n",
       "      <td>0</td>\n",
       "      <td>0</td>\n",
       "    </tr>\n",
       "  </tbody>\n",
       "</table>\n",
       "</div>"
      ],
      "text/plain": [
       "   Action  Adventure  Animation  Children  ...  Sci-Fi  Thriller  War  Western\n",
       "0       0          1          1         1  ...       0         0    0        0\n",
       "\n",
       "[1 rows x 19 columns]"
      ]
     },
     "execution_count": 25,
     "metadata": {
      "tags": []
     },
     "output_type": "execute_result"
    }
   ],
   "source": [
    "genres_vect.head(1)"
   ]
  },
  {
   "cell_type": "code",
   "execution_count": 26,
   "metadata": {
    "id": "Hl60zpyy4Dbe"
   },
   "outputs": [],
   "source": [
    "i             = 0\n",
    "col_s         = ['movieId','tag']\n",
    "movie_tag     = pd.DataFrame(columns =col_s)\n",
    "\n",
    "\n",
    "for i in range (19):\n",
    "    df                      = pd.DataFrame(list(zip(movies.movieId, genres_vect.iloc[:,i])))\n",
    "    df.columns              = col_s\n",
    "    df.loc[df.tag>0, 'tag'] = genres_vect.columns[i]\n",
    "    movie_tag               = pd.concat([movie_tag, df],axis = 0)\n",
    "\n",
    "movie_tag = movie_tag.loc[movie_tag.tag != 0]"
   ]
  },
  {
   "cell_type": "code",
   "execution_count": 27,
   "metadata": {
    "colab": {
     "base_uri": "https://localhost:8080/",
     "height": 76
    },
    "id": "GHEJ_sYt4Dbe",
    "outputId": "9f458dcc-9df2-4307-fdb6-3aec06f2f230"
   },
   "outputs": [
    {
     "data": {
      "text/html": [
       "<div>\n",
       "<style scoped>\n",
       "    .dataframe tbody tr th:only-of-type {\n",
       "        vertical-align: middle;\n",
       "    }\n",
       "\n",
       "    .dataframe tbody tr th {\n",
       "        vertical-align: top;\n",
       "    }\n",
       "\n",
       "    .dataframe thead th {\n",
       "        text-align: right;\n",
       "    }\n",
       "</style>\n",
       "<table border=\"1\" class=\"dataframe\">\n",
       "  <thead>\n",
       "    <tr style=\"text-align: right;\">\n",
       "      <th></th>\n",
       "      <th>movieId</th>\n",
       "      <th>tag</th>\n",
       "    </tr>\n",
       "  </thead>\n",
       "  <tbody>\n",
       "    <tr>\n",
       "      <th>5</th>\n",
       "      <td>6</td>\n",
       "      <td>Action</td>\n",
       "    </tr>\n",
       "  </tbody>\n",
       "</table>\n",
       "</div>"
      ],
      "text/plain": [
       "  movieId     tag\n",
       "5       6  Action"
      ]
     },
     "execution_count": 27,
     "metadata": {
      "tags": []
     },
     "output_type": "execute_result"
    }
   ],
   "source": [
    "movie_tag.head(1)"
   ]
  },
  {
   "cell_type": "markdown",
   "metadata": {
    "id": "AZJrZYI94Dbf"
   },
   "source": [
    "сформируем дополнительные признаки - год выпуска фильма и период выпуска фильма (с точностью до 5-10 лет)"
   ]
  },
  {
   "cell_type": "code",
   "execution_count": 28,
   "metadata": {
    "id": "j0-q1ez64Dbf"
   },
   "outputs": [],
   "source": [
    "def set_year(row):\n",
    "    z = re.findall('(\\d\\d\\d\\d)', row.title)\n",
    "    if len(z) == 0 or z == 0 or z == None:\n",
    "        z = 9999\n",
    "    else:\n",
    "        z = int(z[-1])\n",
    "    return z    \n",
    "\n",
    "movies['year_of_film']= movies.apply(set_year, axis=1)"
   ]
  },
  {
   "cell_type": "code",
   "execution_count": 29,
   "metadata": {
    "colab": {
     "base_uri": "https://localhost:8080/"
    },
    "id": "oabbnM5V4Dbf",
    "outputId": "39e6f1dc-b24c-48e8-af18-f3e6b7c72e30"
   },
   "outputs": [
    {
     "data": {
      "text/plain": [
       "(2010, 2015]     5991\n",
       "(2005, 2010]     5081\n",
       "(1990, 2000]     4830\n",
       "(2000, 2005]     3574\n",
       "(1900, 1960]     3021\n",
       "(1980, 1990]     2945\n",
       "(2015, 10000]    2666\n",
       "(1970, 1980]     2094\n",
       "(1960, 1970]     1685\n",
       "Name: tag, dtype: int64"
      ]
     },
     "execution_count": 29,
     "metadata": {
      "tags": []
     },
     "output_type": "execute_result"
    }
   ],
   "source": [
    "movies['tag'] = pd.cut(movies.year_of_film, [1900, 1960, 1970, 1980, 1990, 2000,\n",
    "                                                       2005, 2010, 2015, 10000]) \n",
    "movies['tag'].value_counts()"
   ]
  },
  {
   "cell_type": "markdown",
   "metadata": {
    "id": "fSWoqaep4Dbf"
   },
   "source": [
    "Соединим все синтетические тэги и оставим до лучших времен"
   ]
  },
  {
   "cell_type": "code",
   "execution_count": 30,
   "metadata": {
    "colab": {
     "base_uri": "https://localhost:8080/",
     "height": 194
    },
    "id": "oDh1ybOy4Dbf",
    "outputId": "5153c319-c878-4d28-ec8e-f300df4d1f22"
   },
   "outputs": [
    {
     "data": {
      "text/html": [
       "<div>\n",
       "<style scoped>\n",
       "    .dataframe tbody tr th:only-of-type {\n",
       "        vertical-align: middle;\n",
       "    }\n",
       "\n",
       "    .dataframe tbody tr th {\n",
       "        vertical-align: top;\n",
       "    }\n",
       "\n",
       "    .dataframe thead th {\n",
       "        text-align: right;\n",
       "    }\n",
       "</style>\n",
       "<table border=\"1\" class=\"dataframe\">\n",
       "  <thead>\n",
       "    <tr style=\"text-align: right;\">\n",
       "      <th></th>\n",
       "      <th>movieId</th>\n",
       "      <th>tag</th>\n",
       "    </tr>\n",
       "  </thead>\n",
       "  <tbody>\n",
       "    <tr>\n",
       "      <th>58073</th>\n",
       "      <td>193835</td>\n",
       "      <td>(2010.0, 2015.0]</td>\n",
       "    </tr>\n",
       "    <tr>\n",
       "      <th>58077</th>\n",
       "      <td>193843</td>\n",
       "      <td>(2015.0, 10000.0]</td>\n",
       "    </tr>\n",
       "    <tr>\n",
       "      <th>58089</th>\n",
       "      <td>193868</td>\n",
       "      <td>(1900.0, 1960.0]</td>\n",
       "    </tr>\n",
       "    <tr>\n",
       "      <th>58091</th>\n",
       "      <td>193872</td>\n",
       "      <td>(2015.0, 10000.0]</td>\n",
       "    </tr>\n",
       "    <tr>\n",
       "      <th>58092</th>\n",
       "      <td>193874</td>\n",
       "      <td>(1900.0, 1960.0]</td>\n",
       "    </tr>\n",
       "  </tbody>\n",
       "</table>\n",
       "</div>"
      ],
      "text/plain": [
       "      movieId                tag\n",
       "58073  193835   (2010.0, 2015.0]\n",
       "58077  193843  (2015.0, 10000.0]\n",
       "58089  193868   (1900.0, 1960.0]\n",
       "58091  193872  (2015.0, 10000.0]\n",
       "58092  193874   (1900.0, 1960.0]"
      ]
     },
     "execution_count": 30,
     "metadata": {
      "tags": []
     },
     "output_type": "execute_result"
    }
   ],
   "source": [
    "movie_tag = pd.concat([movie_tag, \n",
    "                       movies.iloc[:,[0,4]]],\n",
    "                       axis = 0)\n",
    "movie_tag.tail()"
   ]
  },
  {
   "cell_type": "code",
   "execution_count": 31,
   "metadata": {
    "colab": {
     "base_uri": "https://localhost:8080/"
    },
    "id": "PW6lT5RF4Dbf",
    "outputId": "7a707e13-6249-4973-b3d3-9c8f0e8857c5"
   },
   "outputs": [
    {
     "data": {
      "text/plain": [
       "((92463, 2), (31910, 5))"
      ]
     },
     "execution_count": 31,
     "metadata": {
      "tags": []
     },
     "output_type": "execute_result"
    }
   ],
   "source": [
    "movie_tag.shape, movies.shape"
   ]
  },
  {
   "cell_type": "markdown",
   "metadata": {
    "id": "hAGw-SDO4Dbf"
   },
   "source": [
    "Tags"
   ]
  },
  {
   "cell_type": "code",
   "execution_count": 32,
   "metadata": {
    "colab": {
     "base_uri": "https://localhost:8080/",
     "height": 76
    },
    "id": "7K8CvZKj4Dbf",
    "outputId": "dd28906c-f4a7-40b7-c836-0dae1692a1c0"
   },
   "outputs": [
    {
     "data": {
      "text/html": [
       "<div>\n",
       "<style scoped>\n",
       "    .dataframe tbody tr th:only-of-type {\n",
       "        vertical-align: middle;\n",
       "    }\n",
       "\n",
       "    .dataframe tbody tr th {\n",
       "        vertical-align: top;\n",
       "    }\n",
       "\n",
       "    .dataframe thead th {\n",
       "        text-align: right;\n",
       "    }\n",
       "</style>\n",
       "<table border=\"1\" class=\"dataframe\">\n",
       "  <thead>\n",
       "    <tr style=\"text-align: right;\">\n",
       "      <th></th>\n",
       "      <th>userId</th>\n",
       "      <th>movieId</th>\n",
       "      <th>tag</th>\n",
       "      <th>timestamp</th>\n",
       "    </tr>\n",
       "  </thead>\n",
       "  <tbody>\n",
       "    <tr>\n",
       "      <th>0</th>\n",
       "      <td>14</td>\n",
       "      <td>110</td>\n",
       "      <td>epic</td>\n",
       "      <td>1443148538</td>\n",
       "    </tr>\n",
       "  </tbody>\n",
       "</table>\n",
       "</div>"
      ],
      "text/plain": [
       "   userId  movieId   tag   timestamp\n",
       "0      14      110  epic  1443148538"
      ]
     },
     "execution_count": 32,
     "metadata": {
      "tags": []
     },
     "output_type": "execute_result"
    }
   ],
   "source": [
    "tags.head(1)"
   ]
  },
  {
   "cell_type": "code",
   "execution_count": 33,
   "metadata": {
    "colab": {
     "base_uri": "https://localhost:8080/"
    },
    "id": "Uy-mAeSw4Dbf",
    "outputId": "45357c98-ea6f-4086-e928-f641bc6196ff"
   },
   "outputs": [
    {
     "data": {
      "text/plain": [
       "sci-fi         9381\n",
       "atmospheric    6425\n",
       "action         6136\n",
       "comedy         5727\n",
       "surreal        5262\n",
       "Name: tag, dtype: int64"
      ]
     },
     "execution_count": 33,
     "metadata": {
      "tags": []
     },
     "output_type": "execute_result"
    }
   ],
   "source": [
    "tags.tag.value_counts().head()"
   ]
  },
  {
   "cell_type": "markdown",
   "metadata": {
    "id": "W9Kwtioe4Dbf"
   },
   "source": [
    "исключаем пустые записи"
   ]
  },
  {
   "cell_type": "code",
   "execution_count": 34,
   "metadata": {
    "id": "IwActwuh4Dbf"
   },
   "outputs": [],
   "source": [
    "tags = tags[~tags.tag.isna()]"
   ]
  },
  {
   "cell_type": "markdown",
   "metadata": {
    "id": "qsV5uuXh4Dbf"
   },
   "source": [
    "приводим все теги к нижнему регистру"
   ]
  },
  {
   "cell_type": "code",
   "execution_count": 35,
   "metadata": {
    "id": "kfAgU4dg4Dbf"
   },
   "outputs": [],
   "source": [
    "tags['tag'] = tags['tag'].str.lower()"
   ]
  },
  {
   "cell_type": "markdown",
   "metadata": {
    "id": "zmTkQXNA4Dbf"
   },
   "source": [
    "если наименование жанра содержится в теге - оставляем типовое поле о принадлежности тега к жанру, жанр уже отражен в базе movies тэгов"
   ]
  },
  {
   "cell_type": "code",
   "execution_count": 36,
   "metadata": {
    "id": "unR3OW_Z4Dbf"
   },
   "outputs": [],
   "source": [
    "for i in genres_vect.columns.str.lower().tolist():\n",
    "    tags.loc[tags.tag ==i, 'tag'] = 'genres_tag'"
   ]
  },
  {
   "cell_type": "code",
   "execution_count": 37,
   "metadata": {
    "colab": {
     "base_uri": "https://localhost:8080/"
    },
    "id": "WB6-8dXr4Dbf",
    "outputId": "b8855435-8542-42db-a0d3-97088351f527"
   },
   "outputs": [
    {
     "data": {
      "text/plain": [
       "genres_tag         58751\n",
       "atmospheric         6987\n",
       "surreal             5534\n",
       "funny               5527\n",
       "based on a book     5338\n",
       "Name: tag, dtype: int64"
      ]
     },
     "execution_count": 37,
     "metadata": {
      "tags": []
     },
     "output_type": "execute_result"
    }
   ],
   "source": [
    "tags.tag.value_counts().head()"
   ]
  },
  {
   "cell_type": "markdown",
   "metadata": {
    "id": "T-hmVNmb4Dbf"
   },
   "source": [
    "если время выпуска фильма содержится в теге - оставляем типовое поле о принадлежности тега ко времение, \"эпоха\" уже отражена в базе movies"
   ]
  },
  {
   "cell_type": "code",
   "execution_count": 38,
   "metadata": {
    "colab": {
     "base_uri": "https://localhost:8080/",
     "height": 194
    },
    "id": "DtGtaoAt4Dbf",
    "outputId": "44ac9000-21b1-4027-cd40-39604564c139"
   },
   "outputs": [
    {
     "data": {
      "text/html": [
       "<div>\n",
       "<style scoped>\n",
       "    .dataframe tbody tr th:only-of-type {\n",
       "        vertical-align: middle;\n",
       "    }\n",
       "\n",
       "    .dataframe tbody tr th {\n",
       "        vertical-align: top;\n",
       "    }\n",
       "\n",
       "    .dataframe thead th {\n",
       "        text-align: right;\n",
       "    }\n",
       "</style>\n",
       "<table border=\"1\" class=\"dataframe\">\n",
       "  <thead>\n",
       "    <tr style=\"text-align: right;\">\n",
       "      <th></th>\n",
       "      <th>userId</th>\n",
       "      <th>movieId</th>\n",
       "      <th>tag</th>\n",
       "      <th>timestamp</th>\n",
       "    </tr>\n",
       "  </thead>\n",
       "  <tbody>\n",
       "    <tr>\n",
       "      <th>292</th>\n",
       "      <td>206</td>\n",
       "      <td>541</td>\n",
       "      <td>80s</td>\n",
       "      <td>1527550262</td>\n",
       "    </tr>\n",
       "    <tr>\n",
       "      <th>293</th>\n",
       "      <td>206</td>\n",
       "      <td>2115</td>\n",
       "      <td>80s</td>\n",
       "      <td>1527550065</td>\n",
       "    </tr>\n",
       "    <tr>\n",
       "      <th>295</th>\n",
       "      <td>206</td>\n",
       "      <td>2402</td>\n",
       "      <td>80s</td>\n",
       "      <td>1527652380</td>\n",
       "    </tr>\n",
       "    <tr>\n",
       "      <th>296</th>\n",
       "      <td>206</td>\n",
       "      <td>2403</td>\n",
       "      <td>80s</td>\n",
       "      <td>1527652469</td>\n",
       "    </tr>\n",
       "    <tr>\n",
       "      <th>297</th>\n",
       "      <td>206</td>\n",
       "      <td>3740</td>\n",
       "      <td>80s</td>\n",
       "      <td>1527550214</td>\n",
       "    </tr>\n",
       "  </tbody>\n",
       "</table>\n",
       "</div>"
      ],
      "text/plain": [
       "     userId  movieId  tag   timestamp\n",
       "292     206      541  80s  1527550262\n",
       "293     206     2115  80s  1527550065\n",
       "295     206     2402  80s  1527652380\n",
       "296     206     2403  80s  1527652469\n",
       "297     206     3740  80s  1527550214"
      ]
     },
     "execution_count": 38,
     "metadata": {
      "tags": []
     },
     "output_type": "execute_result"
    }
   ],
   "source": [
    "tags[tags.tag.str.contains('0s')].head()"
   ]
  },
  {
   "cell_type": "code",
   "execution_count": 39,
   "metadata": {
    "id": "hJo2AeAs4Dbg"
   },
   "outputs": [],
   "source": [
    "tags.loc[tags.tag.str.contains('0s'),  'tag'] = 'epoch_tag'\n",
    "tags.loc[tags.tag.str.contains(\"0's\"), 'tag'] = 'epoch_tag'"
   ]
  },
  {
   "cell_type": "markdown",
   "metadata": {
    "id": "FlROOsxGchpw"
   },
   "source": [
    "Исключим редкие тэги / встречаются менее 50 раз "
   ]
  },
  {
   "cell_type": "code",
   "execution_count": 40,
   "metadata": {
    "colab": {
     "base_uri": "https://localhost:8080/"
    },
    "id": "4RSZ_fMfZJZS",
    "outputId": "676e2419-8c63-4377-c15e-c10c5d5072fb"
   },
   "outputs": [
    {
     "data": {
      "text/plain": [
       "(790192, 4)"
      ]
     },
     "execution_count": 40,
     "metadata": {
      "tags": []
     },
     "output_type": "execute_result"
    }
   ],
   "source": [
    "rare_tags = tags.tag.value_counts()[tags.tag.value_counts() < 50].index.tolist()\n",
    "tags      = tags[~tags.tag.isin(rare_tags)]\n",
    "tags.shape"
   ]
  },
  {
   "cell_type": "markdown",
   "metadata": {
    "id": "pR3c5Moc4Dbg"
   },
   "source": [
    "Ratings"
   ]
  },
  {
   "cell_type": "code",
   "execution_count": 41,
   "metadata": {
    "colab": {
     "base_uri": "https://localhost:8080/",
     "height": 76
    },
    "id": "I15B39T14Dbg",
    "outputId": "e8782b09-e240-4560-b1c3-0e9d8792a53e"
   },
   "outputs": [
    {
     "data": {
      "text/html": [
       "<div>\n",
       "<style scoped>\n",
       "    .dataframe tbody tr th:only-of-type {\n",
       "        vertical-align: middle;\n",
       "    }\n",
       "\n",
       "    .dataframe tbody tr th {\n",
       "        vertical-align: top;\n",
       "    }\n",
       "\n",
       "    .dataframe thead th {\n",
       "        text-align: right;\n",
       "    }\n",
       "</style>\n",
       "<table border=\"1\" class=\"dataframe\">\n",
       "  <thead>\n",
       "    <tr style=\"text-align: right;\">\n",
       "      <th></th>\n",
       "      <th>userId</th>\n",
       "      <th>movieId</th>\n",
       "      <th>rating_x</th>\n",
       "      <th>timestamp</th>\n",
       "      <th>rating_y</th>\n",
       "    </tr>\n",
       "  </thead>\n",
       "  <tbody>\n",
       "    <tr>\n",
       "      <th>3</th>\n",
       "      <td>1</td>\n",
       "      <td>1257</td>\n",
       "      <td>4.5</td>\n",
       "      <td>1256677460</td>\n",
       "      <td>4.125</td>\n",
       "    </tr>\n",
       "  </tbody>\n",
       "</table>\n",
       "</div>"
      ],
      "text/plain": [
       "   userId  movieId  rating_x   timestamp  rating_y\n",
       "3       1     1257       4.5  1256677460     4.125"
      ]
     },
     "execution_count": 41,
     "metadata": {
      "tags": []
     },
     "output_type": "execute_result"
    }
   ],
   "source": [
    "ratings.head(1)"
   ]
  },
  {
   "cell_type": "code",
   "execution_count": 42,
   "metadata": {
    "colab": {
     "base_uri": "https://localhost:8080/",
     "height": 76
    },
    "id": "iahXiqQEXpec",
    "outputId": "2f872cfc-aff5-40e0-e242-5c57f2c9d9d3"
   },
   "outputs": [
    {
     "data": {
      "text/html": [
       "<div>\n",
       "<style scoped>\n",
       "    .dataframe tbody tr th:only-of-type {\n",
       "        vertical-align: middle;\n",
       "    }\n",
       "\n",
       "    .dataframe tbody tr th {\n",
       "        vertical-align: top;\n",
       "    }\n",
       "\n",
       "    .dataframe thead th {\n",
       "        text-align: right;\n",
       "    }\n",
       "</style>\n",
       "<table border=\"1\" class=\"dataframe\">\n",
       "  <thead>\n",
       "    <tr style=\"text-align: right;\">\n",
       "      <th></th>\n",
       "      <th>userId</th>\n",
       "      <th>movieId</th>\n",
       "      <th>rating_x</th>\n",
       "      <th>timestamp</th>\n",
       "      <th>rating_y</th>\n",
       "    </tr>\n",
       "  </thead>\n",
       "  <tbody>\n",
       "    <tr>\n",
       "      <th>3</th>\n",
       "      <td>1</td>\n",
       "      <td>1257</td>\n",
       "      <td>4.5</td>\n",
       "      <td>2009-10-27</td>\n",
       "      <td>4.125</td>\n",
       "    </tr>\n",
       "  </tbody>\n",
       "</table>\n",
       "</div>"
      ],
      "text/plain": [
       "   userId  movieId  rating_x   timestamp  rating_y\n",
       "3       1     1257       4.5  2009-10-27     4.125"
      ]
     },
     "execution_count": 42,
     "metadata": {
      "tags": []
     },
     "output_type": "execute_result"
    }
   ],
   "source": [
    "ratings['timestamp'] = pd.to_datetime(ratings['timestamp'], unit=\"s\").dt.date\n",
    "ratings.head(1)"
   ]
  },
  {
   "cell_type": "markdown",
   "metadata": {
    "id": "TJDCLq2dc9xa"
   },
   "source": [
    "Для целей построения модели сформируем промещуточные базы :\n",
    "- Тэг / Фильм / Рейтинг фильма (медиана)\n",
    "- Жанр / Фильм / Рейтинг фильма (медиана)"
   ]
  },
  {
   "cell_type": "code",
   "execution_count": 43,
   "metadata": {
    "id": "Mosd_ooP4Dbg"
   },
   "outputs": [],
   "source": [
    "base  = tags.merge(ratings.iloc[:,:3],\n",
    "                   how      = 'left',\n",
    "                   left_on  = ['userId','movieId'] ,\n",
    "                   right_on = ['userId','movieId'])\n"
   ]
  },
  {
   "cell_type": "code",
   "execution_count": 44,
   "metadata": {
    "colab": {
     "base_uri": "https://localhost:8080/",
     "height": 76
    },
    "id": "ExaLje9J4Dbg",
    "outputId": "63c7a6fd-8f00-44c4-a6be-77315d75f80a"
   },
   "outputs": [
    {
     "data": {
      "text/html": [
       "<div>\n",
       "<style scoped>\n",
       "    .dataframe tbody tr th:only-of-type {\n",
       "        vertical-align: middle;\n",
       "    }\n",
       "\n",
       "    .dataframe tbody tr th {\n",
       "        vertical-align: top;\n",
       "    }\n",
       "\n",
       "    .dataframe thead th {\n",
       "        text-align: right;\n",
       "    }\n",
       "</style>\n",
       "<table border=\"1\" class=\"dataframe\">\n",
       "  <thead>\n",
       "    <tr style=\"text-align: right;\">\n",
       "      <th></th>\n",
       "      <th>userId</th>\n",
       "      <th>movieId</th>\n",
       "      <th>tag</th>\n",
       "      <th>timestamp</th>\n",
       "      <th>rating_x</th>\n",
       "    </tr>\n",
       "  </thead>\n",
       "  <tbody>\n",
       "    <tr>\n",
       "      <th>21</th>\n",
       "      <td>56</td>\n",
       "      <td>2028</td>\n",
       "      <td>disturbing</td>\n",
       "      <td>1274837927</td>\n",
       "      <td>4.0</td>\n",
       "    </tr>\n",
       "  </tbody>\n",
       "</table>\n",
       "</div>"
      ],
      "text/plain": [
       "    userId  movieId         tag   timestamp  rating_x\n",
       "21      56     2028  disturbing  1274837927       4.0"
      ]
     },
     "execution_count": 44,
     "metadata": {
      "tags": []
     },
     "output_type": "execute_result"
    }
   ],
   "source": [
    "base = base[~base.rating_x.isna()]\n",
    "base.head(1)"
   ]
  },
  {
   "cell_type": "code",
   "execution_count": 45,
   "metadata": {
    "colab": {
     "base_uri": "https://localhost:8080/",
     "height": 76
    },
    "id": "T1YfFdTY4Dbg",
    "outputId": "ab3cd93e-d74d-40b3-ec1f-1c851c2e8c1d"
   },
   "outputs": [
    {
     "data": {
      "text/html": [
       "<div>\n",
       "<style scoped>\n",
       "    .dataframe tbody tr th:only-of-type {\n",
       "        vertical-align: middle;\n",
       "    }\n",
       "\n",
       "    .dataframe tbody tr th {\n",
       "        vertical-align: top;\n",
       "    }\n",
       "\n",
       "    .dataframe thead th {\n",
       "        text-align: right;\n",
       "    }\n",
       "</style>\n",
       "<table border=\"1\" class=\"dataframe\">\n",
       "  <thead>\n",
       "    <tr style=\"text-align: right;\">\n",
       "      <th></th>\n",
       "      <th>movieId</th>\n",
       "      <th>tag</th>\n",
       "      <th>rating_x</th>\n",
       "    </tr>\n",
       "  </thead>\n",
       "  <tbody>\n",
       "    <tr>\n",
       "      <th>0</th>\n",
       "      <td>6</td>\n",
       "      <td>Action</td>\n",
       "      <td>5.0</td>\n",
       "    </tr>\n",
       "  </tbody>\n",
       "</table>\n",
       "</div>"
      ],
      "text/plain": [
       "  movieId     tag  rating_x\n",
       "0       6  Action       5.0"
      ]
     },
     "execution_count": 45,
     "metadata": {
      "tags": []
     },
     "output_type": "execute_result"
    }
   ],
   "source": [
    "base_2  = movie_tag.merge(  ratings.groupby(by = 'movieId').rating_x.median(),\n",
    "                            how      = 'left',\n",
    "                            left_on  = ['movieId'] ,\n",
    "                            right_on = ['movieId'])\n",
    "base_2.head(1)"
   ]
  },
  {
   "cell_type": "code",
   "execution_count": 46,
   "metadata": {
    "id": "H1fMZnt2ztR6"
   },
   "outputs": [],
   "source": [
    "base_2 = base_2[base_2.rating_x>0]"
   ]
  },
  {
   "cell_type": "code",
   "execution_count": 47,
   "metadata": {
    "colab": {
     "base_uri": "https://localhost:8080/",
     "height": 76
    },
    "id": "FOr2iAz8nK29",
    "outputId": "0d210d86-0ca6-431c-e5e7-2d09a6cda3c8"
   },
   "outputs": [
    {
     "data": {
      "text/html": [
       "<div>\n",
       "<style scoped>\n",
       "    .dataframe tbody tr th:only-of-type {\n",
       "        vertical-align: middle;\n",
       "    }\n",
       "\n",
       "    .dataframe tbody tr th {\n",
       "        vertical-align: top;\n",
       "    }\n",
       "\n",
       "    .dataframe thead th {\n",
       "        text-align: right;\n",
       "    }\n",
       "</style>\n",
       "<table border=\"1\" class=\"dataframe\">\n",
       "  <thead>\n",
       "    <tr style=\"text-align: right;\">\n",
       "      <th></th>\n",
       "      <th>movieId</th>\n",
       "      <th>tag</th>\n",
       "      <th>rating_x</th>\n",
       "    </tr>\n",
       "  </thead>\n",
       "  <tbody>\n",
       "    <tr>\n",
       "      <th>0</th>\n",
       "      <td>6</td>\n",
       "      <td>Action</td>\n",
       "      <td>5.0</td>\n",
       "    </tr>\n",
       "  </tbody>\n",
       "</table>\n",
       "</div>"
      ],
      "text/plain": [
       "  movieId     tag  rating_x\n",
       "0       6  Action       5.0"
      ]
     },
     "execution_count": 47,
     "metadata": {
      "tags": []
     },
     "output_type": "execute_result"
    }
   ],
   "source": [
    "base_2.head(1)"
   ]
  },
  {
   "cell_type": "markdown",
   "metadata": {
    "id": "lTcRQ-XPnLUC"
   },
   "source": [
    "Poor selection"
   ]
  },
  {
   "cell_type": "code",
   "execution_count": 48,
   "metadata": {
    "id": "1bbqPkblVv6Z"
   },
   "outputs": [],
   "source": [
    "users_list   = list(np.sort(ratings.userId))\n",
    "movies_list  = list(np.sort(ratings.movieId))\n",
    "rating_list  = list(ratings.rating_x)"
   ]
  },
  {
   "cell_type": "code",
   "execution_count": 49,
   "metadata": {
    "id": "tMEwDfq_Vv_X"
   },
   "outputs": [],
   "source": [
    "cols = ratings.movieId.astype(int)\n",
    "rows = ratings.userId.astype(int)"
   ]
  },
  {
   "cell_type": "code",
   "execution_count": 50,
   "metadata": {
    "id": "oMergz8gVwCJ"
   },
   "outputs": [],
   "source": [
    "data_sparse = sparse.csr_matrix((rating_list, \n",
    "                                (cols, rows)), \n",
    "                                shape=(len(users_list), len(movies_list)))"
   ]
  },
  {
   "cell_type": "code",
   "execution_count": 51,
   "metadata": {
    "colab": {
     "base_uri": "https://localhost:8080/",
     "height": 102,
     "referenced_widgets": [
      "e5c27e66eacb41e2a7cda4e9aa192dc4",
      "903f59fddcbb4121ab490c58a4e4bdb9",
      "c73aaf486ad54f6ab1a3df42cf346f59",
      "32caabd5a0e042bc9708c278c915d938",
      "fae3bc62d05649bca0dd900d6479360c",
      "565f64bd7c2946c68c50158e3ef032e3",
      "ef00f3cc33684b8da7be629764e384d2",
      "918f68dc486746478412dd1e9843d626"
     ]
    },
    "id": "qEm7k74DVwFq",
    "outputId": "3d5f8761-cbfc-49de-cc0c-7d0bfce9cc8b"
   },
   "outputs": [
    {
     "name": "stderr",
     "output_type": "stream",
     "text": [
      "GPU training requires factor size to be a multiple of 32. Increasing factors from 50 to 64.\n",
      "WARNING:root:OpenBLAS detected. Its highly recommend to set the environment variable 'export OPENBLAS_NUM_THREADS=1' to disable its internal multithreading\n"
     ]
    },
    {
     "data": {
      "application/vnd.jupyter.widget-view+json": {
       "model_id": "e5c27e66eacb41e2a7cda4e9aa192dc4",
       "version_major": 2,
       "version_minor": 0
      },
      "text/plain": [
       "HBox(children=(FloatProgress(value=0.0, max=15.0), HTML(value='')))"
      ]
     },
     "metadata": {
      "tags": []
     },
     "output_type": "display_data"
    },
    {
     "name": "stdout",
     "output_type": "stream",
     "text": [
      "\n"
     ]
    }
   ],
   "source": [
    "model = AlternatingLeastSquares(factors=50)\n",
    "model.fit(data_sparse)"
   ]
  },
  {
   "cell_type": "markdown",
   "metadata": {
    "id": "KYgIuxohnTvl"
   },
   "source": [
    "Модель рекомендательной системы"
   ]
  },
  {
   "cell_type": "code",
   "execution_count": 64,
   "metadata": {
    "id": "hUq64mQcexKn"
   },
   "outputs": [],
   "source": [
    "list_alg = [SlopeOne(), \n",
    "            KNNBasic(sim_options= {'name': 'cosine'}),\n",
    "            BaselineOnly(bsl_options={'method': 'als', 'n_epochs': 5 }) \n",
    "            ]\n",
    "list_alg_2=[SlopeOne(), \n",
    "            SVD(),\n",
    "            BaselineOnly(bsl_options={'method': 'als', 'n_epochs': 5 }) \n",
    "            ]\n",
    "list_alg_3=[SlopeOne(), \n",
    "            KNNBasic(sim_options= {'name': 'cosine'})\n",
    "            ]"
   ]
  },
  {
   "cell_type": "code",
   "execution_count": 65,
   "metadata": {
    "id": "pESVy__fhWb6"
   },
   "outputs": [],
   "source": [
    "def get_top_n(predictions, n=3):\n",
    "    top_n = defaultdict(list)\n",
    "    for uid, iid, true_r, est, _ in predictions:\n",
    "        top_n[uid].append((iid, est))\n",
    "\n",
    "    for uid, user_ratings in top_n.items():\n",
    "        user_ratings.sort(key=lambda x: x[1], reverse=True)\n",
    "        top_n[uid] = user_ratings[:n]\n",
    "\n",
    "    return top_n"
   ]
  },
  {
   "cell_type": "code",
   "execution_count": 66,
   "metadata": {
    "id": "TQt3E9Gh4Dbh"
   },
   "outputs": [],
   "source": [
    "def find_films (current_user, algorithms=list_alg,  count_predict= 5):\n",
    "\n",
    "    cu_last_films  = ratings[ratings.userId == current_user].sort_values(\n",
    "                    'timestamp', ascending = False).movieId[:5].tolist()\n",
    "\n",
    "    select_films   = pd.DataFrame(columns = ['film', 'rate'])\n",
    "\n",
    "    related_movies        = []\n",
    "    select_related_movies = []\n",
    "    sim_users             = []\n",
    "\n",
    "    for u in cu_last_films:\n",
    "        select_related_movies.append(model.similar_items(u,100)[1][0])\n",
    "        for i in model.similar_items(u,101)[1:]:\n",
    "            related_movies.append(i[0])\n",
    "\n",
    "    for i in model.similar_users(current_user,501)[1:]:\n",
    "        sim_users.append(i[0])\n",
    "\n",
    "    for i in sim_users[:5]:\n",
    "        select_related_movies.append(ratings.sort_values(\n",
    "                                 ['rating_x','timestamp'], ascending = False).\n",
    "                                 loc[ratings.userId ==i, 'movieId'].values[0])\n",
    "    \n",
    "    ratings_for_model = ratings[(ratings.movieId.isin(related_movies))&\n",
    "                                (ratings.userId.isin( sim_users))]\n",
    "    base_for_model   = base  [(base.movieId.isin(  related_movies))]\n",
    "    base_2_for_model = base_2[(base_2.movieId.isin(related_movies))]\n",
    "\n",
    "    dataset_1 = pd.DataFrame({\n",
    "                            'uid':    ratings_for_model.userId,\n",
    "                            'iid':    ratings_for_model.movieId,\n",
    "                            'rating': ratings_for_model.rating_x #individual_rate\n",
    "                            })\n",
    "\n",
    "    dataset_2 = pd.DataFrame({\n",
    "                            'uid':    base_for_model.tag,\n",
    "                            'iid':    base_for_model.movieId,\n",
    "                            'rating': base_for_model.rating_x  # median rate\n",
    "                            })\n",
    "\n",
    "    dataset_3 = pd.DataFrame({\n",
    "                            'uid':    base_2_for_model.tag,\n",
    "                            'iid':    base_2_for_model.movieId,\n",
    "                            'rating': base_2_for_model.rating_x # median  rate\n",
    "                            })\n",
    "\n",
    "    datasets = [dataset_1, dataset_2, dataset_3]\n",
    "    \n",
    "    params       = [sim_users[:5],  cu_last_films, cu_last_films]\n",
    "    select_films = pd.DataFrame(list(zip(select_related_movies, \n",
    "                                         [5]*len(select_related_movies))),\n",
    "                                columns =['movieId', 'rate'])\n",
    "\n",
    "    for ds in datasets:\n",
    "        reader      = Reader(line_format='user item rating', \n",
    "                             rating_scale=(0.5,5.0))\n",
    "        df_prepared = Dataset.load_from_df(ds, reader)\n",
    "        trainset    = df_prepared.build_full_trainset()\n",
    "        testset     =  trainset.build_anti_testset()\n",
    "        p=0\n",
    "   \n",
    "        for la in algorithms:\n",
    "            algo   = la\n",
    "            algo.fit (trainset)\n",
    "            predictions = algo.test(testset)\n",
    "            top_n = get_top_n(predictions, n=count_predict)\n",
    "            for us in params[p]:\n",
    "                r = count_predict\n",
    "                for i in top_n[us]:\n",
    "                    select_films = select_films.append(\n",
    "                        [{'movieId':i[0], 'rate':r}], ignore_index=True)\n",
    "                    r  = r-1\n",
    "            p +=1\n",
    "\n",
    "    select_films = select_films[~select_films.movieId.isin(cu_last_films)]\n",
    "    top_films    = select_films.groupby(by='movieId'\n",
    "                            ).rate.sum().sort_values(ascending=False)[:5]\n",
    "\n",
    "    print ('Список рекомендованных фильмов')\n",
    "    for i in  top_films.index.tolist():\n",
    "        print (movies[movies.movieId == i].iloc[:,1].min())\n",
    "    \n",
    "    print ('Список последних понравившихся фильмов / для сравнения')\n",
    "    for i in  cu_last_films:\n",
    "        print (movies[movies.movieId == i].iloc[:,1].min())  \n",
    "    \n"
   ]
  },
  {
   "cell_type": "code",
   "execution_count": 67,
   "metadata": {
    "colab": {
     "base_uri": "https://localhost:8080/"
    },
    "id": "J_nCNptDzKCl",
    "outputId": "89f0dd4c-ae8b-4e78-9c2a-bd7aef0d763f"
   },
   "outputs": [
    {
     "name": "stdout",
     "output_type": "stream",
     "text": [
      "Computing the cosine similarity matrix...\n",
      "Done computing similarity matrix.\n",
      "Estimating biases using als...\n",
      "Computing the cosine similarity matrix...\n",
      "Done computing similarity matrix.\n",
      "Estimating biases using als...\n",
      "Computing the cosine similarity matrix...\n",
      "Done computing similarity matrix.\n",
      "Estimating biases using als...\n",
      "Список рекомендованных фильмов\n",
      "Clerks (1994)\n",
      "Mallrats (1995)\n",
      "All About Eve (1950)\n",
      "Gallipoli (1981)\n",
      "48 Hrs. (1982)\n",
      "Список последних понравившихся фильмов / для сравнения\n",
      "Office Space (1999)\n",
      "Rope (1948)\n",
      "All That Heaven Allows (1955)\n",
      "Memento (2000)\n",
      "Beverly Hills Cop (1984)\n"
     ]
    }
   ],
   "source": [
    "find_films(68040) #SlopeOne + KNNBasic +  BaselineOnly"
   ]
  },
  {
   "cell_type": "code",
   "execution_count": 68,
   "metadata": {
    "colab": {
     "base_uri": "https://localhost:8080/"
    },
    "id": "FLO6R1DLhWF1",
    "outputId": "009f94da-8f2c-4d13-dee5-3ccd4a89be57"
   },
   "outputs": [
    {
     "name": "stdout",
     "output_type": "stream",
     "text": [
      "Estimating biases using als...\n",
      "Estimating biases using als...\n",
      "Estimating biases using als...\n",
      "Список рекомендованных фильмов\n",
      "Clerks (1994)\n",
      "Mallrats (1995)\n",
      "All About Eve (1950)\n",
      "Gallipoli (1981)\n",
      "48 Hrs. (1982)\n",
      "Список последних понравившихся фильмов / для сравнения\n",
      "Office Space (1999)\n",
      "Rope (1948)\n",
      "All That Heaven Allows (1955)\n",
      "Memento (2000)\n",
      "Beverly Hills Cop (1984)\n"
     ]
    }
   ],
   "source": [
    "find_films(68040, algorithms=list_alg_2) #SlopeOne + SVD +  BaselineOnly"
   ]
  },
  {
   "cell_type": "code",
   "execution_count": 69,
   "metadata": {
    "colab": {
     "base_uri": "https://localhost:8080/"
    },
    "id": "98KDQvVwha8c",
    "outputId": "08052676-f3f1-4cd8-9e10-45831bb32791"
   },
   "outputs": [
    {
     "name": "stdout",
     "output_type": "stream",
     "text": [
      "Computing the cosine similarity matrix...\n",
      "Done computing similarity matrix.\n",
      "Computing the cosine similarity matrix...\n",
      "Done computing similarity matrix.\n",
      "Computing the cosine similarity matrix...\n",
      "Done computing similarity matrix.\n",
      "Список рекомендованных фильмов\n",
      "Clerks (1994)\n",
      "Mallrats (1995)\n",
      "All About Eve (1950)\n",
      "Gallipoli (1981)\n",
      "48 Hrs. (1982)\n",
      "Список последних понравившихся фильмов / для сравнения\n",
      "Office Space (1999)\n",
      "Rope (1948)\n",
      "All That Heaven Allows (1955)\n",
      "Memento (2000)\n",
      "Beverly Hills Cop (1984)\n"
     ]
    }
   ],
   "source": [
    "find_films(68040, algorithms=list_alg_3) #SlopeOne + KNNBasic"
   ]
  },
  {
   "cell_type": "code",
   "execution_count": 70,
   "metadata": {
    "colab": {
     "base_uri": "https://localhost:8080/"
    },
    "id": "mN6SgZX7xG35",
    "outputId": "e81067b8-5154-43f8-ee71-43fe08b30c21"
   },
   "outputs": [
    {
     "name": "stdout",
     "output_type": "stream",
     "text": [
      "Computing the cosine similarity matrix...\n",
      "Done computing similarity matrix.\n",
      "Estimating biases using als...\n",
      "Computing the cosine similarity matrix...\n",
      "Done computing similarity matrix.\n",
      "Estimating biases using als...\n",
      "Computing the cosine similarity matrix...\n",
      "Done computing similarity matrix.\n",
      "Estimating biases using als...\n",
      "Список рекомендованных фильмов\n",
      "Weird Science (1985)\n",
      "Better Off Dead... (1985)\n",
      "Do the Right Thing (1989)\n",
      "This Is Spinal Tap (1984)\n",
      "Monty Python Live at the Hollywood Bowl (1982)\n",
      "Список последних понравившихся фильмов / для сравнения\n",
      "Bottle Rocket (1996)\n",
      "Defending Your Life (1991)\n",
      "Fletch (1985)\n",
      "Rushmore (1998)\n",
      "Monty Python's And Now for Something Completely Different (1971)\n"
     ]
    }
   ],
   "source": [
    "find_films(123659)                       #SlopeOne + KNNBasic +  BaselineOnly"
   ]
  },
  {
   "cell_type": "code",
   "execution_count": 71,
   "metadata": {
    "colab": {
     "base_uri": "https://localhost:8080/"
    },
    "id": "nq471uPghvtd",
    "outputId": "494ee5f9-61c4-4545-abeb-88d5a343b4ee"
   },
   "outputs": [
    {
     "name": "stdout",
     "output_type": "stream",
     "text": [
      "Estimating biases using als...\n",
      "Estimating biases using als...\n",
      "Estimating biases using als...\n",
      "Список рекомендованных фильмов\n",
      "Weird Science (1985)\n",
      "Better Off Dead... (1985)\n",
      "Do the Right Thing (1989)\n",
      "This Is Spinal Tap (1984)\n",
      "Monty Python Live at the Hollywood Bowl (1982)\n",
      "Список последних понравившихся фильмов / для сравнения\n",
      "Bottle Rocket (1996)\n",
      "Defending Your Life (1991)\n",
      "Fletch (1985)\n",
      "Rushmore (1998)\n",
      "Monty Python's And Now for Something Completely Different (1971)\n"
     ]
    }
   ],
   "source": [
    "find_films(123659, algorithms=list_alg_2)   #SlopeOne + SVD + BaselineOnly"
   ]
  },
  {
   "cell_type": "code",
   "execution_count": 72,
   "metadata": {
    "colab": {
     "base_uri": "https://localhost:8080/"
    },
    "id": "ENelPSeNhv6I",
    "outputId": "f8f8b162-8878-456f-8d38-d6dd622f45eb"
   },
   "outputs": [
    {
     "name": "stdout",
     "output_type": "stream",
     "text": [
      "Computing the cosine similarity matrix...\n",
      "Done computing similarity matrix.\n",
      "Computing the cosine similarity matrix...\n",
      "Done computing similarity matrix.\n",
      "Computing the cosine similarity matrix...\n",
      "Done computing similarity matrix.\n",
      "Список рекомендованных фильмов\n",
      "Weird Science (1985)\n",
      "Better Off Dead... (1985)\n",
      "Do the Right Thing (1989)\n",
      "This Is Spinal Tap (1984)\n",
      "Monty Python Live at the Hollywood Bowl (1982)\n",
      "Список последних понравившихся фильмов / для сравнения\n",
      "Bottle Rocket (1996)\n",
      "Defending Your Life (1991)\n",
      "Fletch (1985)\n",
      "Rushmore (1998)\n",
      "Monty Python's And Now for Something Completely Different (1971)\n"
     ]
    }
   ],
   "source": [
    "find_films(123659, algorithms=list_alg_3)   #SlopeOne + KNNBasic +  BaselineOnly"
   ]
  },
  {
   "cell_type": "code",
   "execution_count": 73,
   "metadata": {
    "colab": {
     "base_uri": "https://localhost:8080/"
    },
    "id": "nYD9xSRExJ5V",
    "outputId": "12441aa6-2bb5-4f6a-da04-b2fed03d868f"
   },
   "outputs": [
    {
     "name": "stdout",
     "output_type": "stream",
     "text": [
      "Computing the cosine similarity matrix...\n",
      "Done computing similarity matrix.\n",
      "Estimating biases using als...\n",
      "Computing the cosine similarity matrix...\n",
      "Done computing similarity matrix.\n",
      "Estimating biases using als...\n",
      "Computing the cosine similarity matrix...\n",
      "Done computing similarity matrix.\n",
      "Estimating biases using als...\n",
      "Список рекомендованных фильмов\n",
      "Heathers (1989)\n",
      "Killing Fields, The (1984)\n",
      "Waiting for Guffman (1996)\n",
      "Weird Science (1985)\n",
      "Do the Right Thing (1989)\n",
      "Список последних понравившихся фильмов / для сравнения\n",
      "Cinema Paradiso (Nuovo cinema Paradiso) (1989)\n",
      "Princess Bride, The (1987)\n",
      "Better Off Dead... (1985)\n",
      "This Is Spinal Tap (1984)\n",
      "Real Genius (1985)\n"
     ]
    }
   ],
   "source": [
    "find_films(1111)                            #SlopeOne + KNNBasic +  BaselineOnly"
   ]
  },
  {
   "cell_type": "code",
   "execution_count": 74,
   "metadata": {
    "colab": {
     "base_uri": "https://localhost:8080/"
    },
    "id": "7LK2UhDpo6Dl",
    "outputId": "6468c744-46f0-4ca5-d1f1-67b1c4ce0bc1"
   },
   "outputs": [
    {
     "name": "stdout",
     "output_type": "stream",
     "text": [
      "Estimating biases using als...\n",
      "Estimating biases using als...\n",
      "Estimating biases using als...\n",
      "Список рекомендованных фильмов\n",
      "Heathers (1989)\n",
      "Killing Fields, The (1984)\n",
      "Waiting for Guffman (1996)\n",
      "Weird Science (1985)\n",
      "Do the Right Thing (1989)\n",
      "Список последних понравившихся фильмов / для сравнения\n",
      "Cinema Paradiso (Nuovo cinema Paradiso) (1989)\n",
      "Princess Bride, The (1987)\n",
      "Better Off Dead... (1985)\n",
      "This Is Spinal Tap (1984)\n",
      "Real Genius (1985)\n"
     ]
    }
   ],
   "source": [
    "find_films(1111, algorithms=list_alg_2)     #SlopeOne + SVD + BaselineOnly"
   ]
  },
  {
   "cell_type": "code",
   "execution_count": 75,
   "metadata": {
    "colab": {
     "base_uri": "https://localhost:8080/"
    },
    "id": "khlb0k4gh0_u",
    "outputId": "2e7ac4ea-c7b7-41f2-a0f4-b2d7659a0636"
   },
   "outputs": [
    {
     "name": "stdout",
     "output_type": "stream",
     "text": [
      "Computing the cosine similarity matrix...\n",
      "Done computing similarity matrix.\n",
      "Computing the cosine similarity matrix...\n",
      "Done computing similarity matrix.\n",
      "Computing the cosine similarity matrix...\n",
      "Done computing similarity matrix.\n",
      "Список рекомендованных фильмов\n",
      "Heathers (1989)\n",
      "Killing Fields, The (1984)\n",
      "Waiting for Guffman (1996)\n",
      "Weird Science (1985)\n",
      "Do the Right Thing (1989)\n",
      "Список последних понравившихся фильмов / для сравнения\n",
      "Cinema Paradiso (Nuovo cinema Paradiso) (1989)\n",
      "Princess Bride, The (1987)\n",
      "Better Off Dead... (1985)\n",
      "This Is Spinal Tap (1984)\n",
      "Real Genius (1985)\n"
     ]
    }
   ],
   "source": [
    "find_films(1111, algorithms=list_alg_3)     #SlopeOne + KNNBasic"
   ]
  },
  {
   "cell_type": "markdown",
   "metadata": {
    "id": "6QJcpd0j1hUI"
   },
   "source": [
    "."
   ]
  },
  {
   "cell_type": "code",
   "execution_count": 75,
   "metadata": {
    "id": "5bpxnX3D18Jm"
   },
   "outputs": [],
   "source": []
  }
 ],
 "metadata": {
  "accelerator": "GPU",
  "colab": {
   "collapsed_sections": [],
   "include_colab_link": true,
   "name": "ML_RS_hw3.ipynb",
   "provenance": []
  },
  "kernelspec": {
   "display_name": "Python 3",
   "language": "python",
   "name": "python3"
  },
  "language_info": {
   "codemirror_mode": {
    "name": "ipython",
    "version": 3
   },
   "file_extension": ".py",
   "mimetype": "text/x-python",
   "name": "python",
   "nbconvert_exporter": "python",
   "pygments_lexer": "ipython3",
   "version": "3.7.4"
  },
  "widgets": {
   "application/vnd.jupyter.widget-state+json": {
    "32caabd5a0e042bc9708c278c915d938": {
     "model_module": "@jupyter-widgets/controls",
     "model_name": "HTMLModel",
     "state": {
      "_dom_classes": [],
      "_model_module": "@jupyter-widgets/controls",
      "_model_module_version": "1.5.0",
      "_model_name": "HTMLModel",
      "_view_count": null,
      "_view_module": "@jupyter-widgets/controls",
      "_view_module_version": "1.5.0",
      "_view_name": "HTMLView",
      "description": "",
      "description_tooltip": null,
      "layout": "IPY_MODEL_918f68dc486746478412dd1e9843d626",
      "placeholder": "​",
      "style": "IPY_MODEL_ef00f3cc33684b8da7be629764e384d2",
      "value": " 15/15 [00:06&lt;00:00,  2.41it/s]"
     }
    },
    "565f64bd7c2946c68c50158e3ef032e3": {
     "model_module": "@jupyter-widgets/base",
     "model_name": "LayoutModel",
     "state": {
      "_model_module": "@jupyter-widgets/base",
      "_model_module_version": "1.2.0",
      "_model_name": "LayoutModel",
      "_view_count": null,
      "_view_module": "@jupyter-widgets/base",
      "_view_module_version": "1.2.0",
      "_view_name": "LayoutView",
      "align_content": null,
      "align_items": null,
      "align_self": null,
      "border": null,
      "bottom": null,
      "display": null,
      "flex": null,
      "flex_flow": null,
      "grid_area": null,
      "grid_auto_columns": null,
      "grid_auto_flow": null,
      "grid_auto_rows": null,
      "grid_column": null,
      "grid_gap": null,
      "grid_row": null,
      "grid_template_areas": null,
      "grid_template_columns": null,
      "grid_template_rows": null,
      "height": null,
      "justify_content": null,
      "justify_items": null,
      "left": null,
      "margin": null,
      "max_height": null,
      "max_width": null,
      "min_height": null,
      "min_width": null,
      "object_fit": null,
      "object_position": null,
      "order": null,
      "overflow": null,
      "overflow_x": null,
      "overflow_y": null,
      "padding": null,
      "right": null,
      "top": null,
      "visibility": null,
      "width": null
     }
    },
    "903f59fddcbb4121ab490c58a4e4bdb9": {
     "model_module": "@jupyter-widgets/base",
     "model_name": "LayoutModel",
     "state": {
      "_model_module": "@jupyter-widgets/base",
      "_model_module_version": "1.2.0",
      "_model_name": "LayoutModel",
      "_view_count": null,
      "_view_module": "@jupyter-widgets/base",
      "_view_module_version": "1.2.0",
      "_view_name": "LayoutView",
      "align_content": null,
      "align_items": null,
      "align_self": null,
      "border": null,
      "bottom": null,
      "display": null,
      "flex": null,
      "flex_flow": null,
      "grid_area": null,
      "grid_auto_columns": null,
      "grid_auto_flow": null,
      "grid_auto_rows": null,
      "grid_column": null,
      "grid_gap": null,
      "grid_row": null,
      "grid_template_areas": null,
      "grid_template_columns": null,
      "grid_template_rows": null,
      "height": null,
      "justify_content": null,
      "justify_items": null,
      "left": null,
      "margin": null,
      "max_height": null,
      "max_width": null,
      "min_height": null,
      "min_width": null,
      "object_fit": null,
      "object_position": null,
      "order": null,
      "overflow": null,
      "overflow_x": null,
      "overflow_y": null,
      "padding": null,
      "right": null,
      "top": null,
      "visibility": null,
      "width": null
     }
    },
    "918f68dc486746478412dd1e9843d626": {
     "model_module": "@jupyter-widgets/base",
     "model_name": "LayoutModel",
     "state": {
      "_model_module": "@jupyter-widgets/base",
      "_model_module_version": "1.2.0",
      "_model_name": "LayoutModel",
      "_view_count": null,
      "_view_module": "@jupyter-widgets/base",
      "_view_module_version": "1.2.0",
      "_view_name": "LayoutView",
      "align_content": null,
      "align_items": null,
      "align_self": null,
      "border": null,
      "bottom": null,
      "display": null,
      "flex": null,
      "flex_flow": null,
      "grid_area": null,
      "grid_auto_columns": null,
      "grid_auto_flow": null,
      "grid_auto_rows": null,
      "grid_column": null,
      "grid_gap": null,
      "grid_row": null,
      "grid_template_areas": null,
      "grid_template_columns": null,
      "grid_template_rows": null,
      "height": null,
      "justify_content": null,
      "justify_items": null,
      "left": null,
      "margin": null,
      "max_height": null,
      "max_width": null,
      "min_height": null,
      "min_width": null,
      "object_fit": null,
      "object_position": null,
      "order": null,
      "overflow": null,
      "overflow_x": null,
      "overflow_y": null,
      "padding": null,
      "right": null,
      "top": null,
      "visibility": null,
      "width": null
     }
    },
    "c73aaf486ad54f6ab1a3df42cf346f59": {
     "model_module": "@jupyter-widgets/controls",
     "model_name": "FloatProgressModel",
     "state": {
      "_dom_classes": [],
      "_model_module": "@jupyter-widgets/controls",
      "_model_module_version": "1.5.0",
      "_model_name": "FloatProgressModel",
      "_view_count": null,
      "_view_module": "@jupyter-widgets/controls",
      "_view_module_version": "1.5.0",
      "_view_name": "ProgressView",
      "bar_style": "success",
      "description": "100%",
      "description_tooltip": null,
      "layout": "IPY_MODEL_565f64bd7c2946c68c50158e3ef032e3",
      "max": 15,
      "min": 0,
      "orientation": "horizontal",
      "style": "IPY_MODEL_fae3bc62d05649bca0dd900d6479360c",
      "value": 15
     }
    },
    "e5c27e66eacb41e2a7cda4e9aa192dc4": {
     "model_module": "@jupyter-widgets/controls",
     "model_name": "HBoxModel",
     "state": {
      "_dom_classes": [],
      "_model_module": "@jupyter-widgets/controls",
      "_model_module_version": "1.5.0",
      "_model_name": "HBoxModel",
      "_view_count": null,
      "_view_module": "@jupyter-widgets/controls",
      "_view_module_version": "1.5.0",
      "_view_name": "HBoxView",
      "box_style": "",
      "children": [
       "IPY_MODEL_c73aaf486ad54f6ab1a3df42cf346f59",
       "IPY_MODEL_32caabd5a0e042bc9708c278c915d938"
      ],
      "layout": "IPY_MODEL_903f59fddcbb4121ab490c58a4e4bdb9"
     }
    },
    "ef00f3cc33684b8da7be629764e384d2": {
     "model_module": "@jupyter-widgets/controls",
     "model_name": "DescriptionStyleModel",
     "state": {
      "_model_module": "@jupyter-widgets/controls",
      "_model_module_version": "1.5.0",
      "_model_name": "DescriptionStyleModel",
      "_view_count": null,
      "_view_module": "@jupyter-widgets/base",
      "_view_module_version": "1.2.0",
      "_view_name": "StyleView",
      "description_width": ""
     }
    },
    "fae3bc62d05649bca0dd900d6479360c": {
     "model_module": "@jupyter-widgets/controls",
     "model_name": "ProgressStyleModel",
     "state": {
      "_model_module": "@jupyter-widgets/controls",
      "_model_module_version": "1.5.0",
      "_model_name": "ProgressStyleModel",
      "_view_count": null,
      "_view_module": "@jupyter-widgets/base",
      "_view_module_version": "1.2.0",
      "_view_name": "StyleView",
      "bar_color": null,
      "description_width": "initial"
     }
    }
   }
  }
 },
 "nbformat": 4,
 "nbformat_minor": 1
}
