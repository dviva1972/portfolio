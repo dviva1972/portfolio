{
 "cells": [
  {
   "cell_type": "markdown",
   "metadata": {},
   "source": [
    "Feature engineering\n",
    "\n",
    "### Приют домашних животных / конструирование признаков  для для модели классификации "
   ]
  },
  {
   "cell_type": "code",
   "execution_count": 392,
   "metadata": {},
   "outputs": [],
   "source": [
    "import numpy as np\n",
    "import pandas as pd\n",
    "\n",
    "import matplotlib.pyplot as plt\n",
    "import seaborn as sns\n",
    "\n",
    "from sklearn import preprocessing\n",
    "from sklearn.ensemble import RandomForestClassifier\n",
    "from sklearn.linear_model import LogisticRegression\n",
    "from sklearn.metrics import classification_report\n",
    "from sklearn.model_selection import train_test_split\n",
    "from sklearn.preprocessing import LabelEncoder\n",
    "\n",
    "from sklearn.linear_model import LinearRegression\n",
    "from sklearn.metrics import mean_absolute_error\n",
    "\n",
    "import re"
   ]
  },
  {
   "cell_type": "markdown",
   "metadata": {},
   "source": [
    "Представлен датасет центра приюта животных\n",
    "\n",
    "Задача: выявление признаков датасета, обеспечивающих ниболее точное предсказание меток 'Adoption' и 'Transfer' (столбец “outcome_type”), тестирование и оптимизация модели\n",
    "\n",
    "В рамках задачи необходимо\n",
    "1. Проверить наличие/обработать пропуски\n",
    "2. Проверить взаимосвязи между признаками\n",
    "3. Попробовать создать новые признаки / в том числе из состава текст столбцов\n",
    "4. Удалить лишние признаки\n",
    "5. Попробовать использование метода PCA (Метод главных компонент). "
   ]
  },
  {
   "cell_type": "code",
   "execution_count": 428,
   "metadata": {},
   "outputs": [
    {
     "data": {
      "text/html": [
       "<div>\n",
       "<style scoped>\n",
       "    .dataframe tbody tr th:only-of-type {\n",
       "        vertical-align: middle;\n",
       "    }\n",
       "\n",
       "    .dataframe tbody tr th {\n",
       "        vertical-align: top;\n",
       "    }\n",
       "\n",
       "    .dataframe thead th {\n",
       "        text-align: right;\n",
       "    }\n",
       "</style>\n",
       "<table border=\"1\" class=\"dataframe\">\n",
       "  <thead>\n",
       "    <tr style=\"text-align: right;\">\n",
       "      <th></th>\n",
       "      <th>age_upon_outcome</th>\n",
       "      <th>animal_id</th>\n",
       "      <th>animal_type</th>\n",
       "      <th>breed</th>\n",
       "      <th>color</th>\n",
       "      <th>date_of_birth</th>\n",
       "      <th>datetime</th>\n",
       "      <th>monthyear</th>\n",
       "      <th>name</th>\n",
       "      <th>outcome_subtype</th>\n",
       "      <th>outcome_type</th>\n",
       "      <th>sex_upon_outcome</th>\n",
       "    </tr>\n",
       "  </thead>\n",
       "  <tbody>\n",
       "    <tr>\n",
       "      <td>0</td>\n",
       "      <td>2 weeks</td>\n",
       "      <td>A684346</td>\n",
       "      <td>Cat</td>\n",
       "      <td>Domestic Shorthair Mix</td>\n",
       "      <td>Orange Tabby</td>\n",
       "      <td>2014-07-07T00:00:00</td>\n",
       "      <td>2014-07-22T16:04:00</td>\n",
       "      <td>2014-07-22T16:04:00</td>\n",
       "      <td>NaN</td>\n",
       "      <td>Partner</td>\n",
       "      <td>Transfer</td>\n",
       "      <td>Intact Male</td>\n",
       "    </tr>\n",
       "    <tr>\n",
       "      <td>1</td>\n",
       "      <td>1 year</td>\n",
       "      <td>A666430</td>\n",
       "      <td>Dog</td>\n",
       "      <td>Beagle Mix</td>\n",
       "      <td>White/Brown</td>\n",
       "      <td>2012-11-06T00:00:00</td>\n",
       "      <td>2013-11-07T11:47:00</td>\n",
       "      <td>2013-11-07T11:47:00</td>\n",
       "      <td>Lucy</td>\n",
       "      <td>Partner</td>\n",
       "      <td>Transfer</td>\n",
       "      <td>Spayed Female</td>\n",
       "    </tr>\n",
       "    <tr>\n",
       "      <td>2</td>\n",
       "      <td>1 year</td>\n",
       "      <td>A675708</td>\n",
       "      <td>Dog</td>\n",
       "      <td>Pit Bull</td>\n",
       "      <td>Blue/White</td>\n",
       "      <td>2013-03-31T00:00:00</td>\n",
       "      <td>2014-06-03T14:20:00</td>\n",
       "      <td>2014-06-03T14:20:00</td>\n",
       "      <td>*Johnny</td>\n",
       "      <td>NaN</td>\n",
       "      <td>Adoption</td>\n",
       "      <td>Neutered Male</td>\n",
       "    </tr>\n",
       "    <tr>\n",
       "      <td>3</td>\n",
       "      <td>9 years</td>\n",
       "      <td>A680386</td>\n",
       "      <td>Dog</td>\n",
       "      <td>Miniature Schnauzer Mix</td>\n",
       "      <td>White</td>\n",
       "      <td>2005-06-02T00:00:00</td>\n",
       "      <td>2014-06-15T15:50:00</td>\n",
       "      <td>2014-06-15T15:50:00</td>\n",
       "      <td>Monday</td>\n",
       "      <td>Partner</td>\n",
       "      <td>Transfer</td>\n",
       "      <td>Neutered Male</td>\n",
       "    </tr>\n",
       "    <tr>\n",
       "      <td>4</td>\n",
       "      <td>5 months</td>\n",
       "      <td>A683115</td>\n",
       "      <td>Other</td>\n",
       "      <td>Bat Mix</td>\n",
       "      <td>Brown</td>\n",
       "      <td>2014-01-07T00:00:00</td>\n",
       "      <td>2014-07-07T14:04:00</td>\n",
       "      <td>2014-07-07T14:04:00</td>\n",
       "      <td>NaN</td>\n",
       "      <td>Rabies Risk</td>\n",
       "      <td>Euthanasia</td>\n",
       "      <td>Unknown</td>\n",
       "    </tr>\n",
       "  </tbody>\n",
       "</table>\n",
       "</div>"
      ],
      "text/plain": [
       "  age_upon_outcome animal_id animal_type                    breed  \\\n",
       "0          2 weeks   A684346         Cat   Domestic Shorthair Mix   \n",
       "1           1 year   A666430         Dog               Beagle Mix   \n",
       "2           1 year   A675708         Dog                 Pit Bull   \n",
       "3          9 years   A680386         Dog  Miniature Schnauzer Mix   \n",
       "4         5 months   A683115       Other                  Bat Mix   \n",
       "\n",
       "          color        date_of_birth             datetime  \\\n",
       "0  Orange Tabby  2014-07-07T00:00:00  2014-07-22T16:04:00   \n",
       "1   White/Brown  2012-11-06T00:00:00  2013-11-07T11:47:00   \n",
       "2    Blue/White  2013-03-31T00:00:00  2014-06-03T14:20:00   \n",
       "3         White  2005-06-02T00:00:00  2014-06-15T15:50:00   \n",
       "4         Brown  2014-01-07T00:00:00  2014-07-07T14:04:00   \n",
       "\n",
       "             monthyear     name outcome_subtype outcome_type sex_upon_outcome  \n",
       "0  2014-07-22T16:04:00      NaN         Partner     Transfer      Intact Male  \n",
       "1  2013-11-07T11:47:00     Lucy         Partner     Transfer    Spayed Female  \n",
       "2  2014-06-03T14:20:00  *Johnny             NaN     Adoption    Neutered Male  \n",
       "3  2014-06-15T15:50:00   Monday         Partner     Transfer    Neutered Male  \n",
       "4  2014-07-07T14:04:00      NaN     Rabies Risk   Euthanasia          Unknown  "
      ]
     },
     "execution_count": 428,
     "metadata": {},
     "output_type": "execute_result"
    }
   ],
   "source": [
    "data = pd.read_csv('aac_shelter_outcomes.csv', delimiter = ',')\n",
    "data.head()"
   ]
  },
  {
   "cell_type": "code",
   "execution_count": 429,
   "metadata": {},
   "outputs": [
    {
     "data": {
      "text/plain": [
       "age_upon_outcome        8\n",
       "name                23886\n",
       "outcome_subtype     42293\n",
       "outcome_type           12\n",
       "sex_upon_outcome        2\n",
       "dtype: int64"
      ]
     },
     "execution_count": 429,
     "metadata": {},
     "output_type": "execute_result"
    }
   ],
   "source": [
    "data.isna().sum()[data.isna().sum()>0]"
   ]
  },
  {
   "cell_type": "markdown",
   "metadata": {},
   "source": [
    "### 1.  outcome_type  и outcome_subtype - результирующие признаки"
   ]
  },
  {
   "cell_type": "code",
   "execution_count": 430,
   "metadata": {},
   "outputs": [
    {
     "data": {
      "text/html": [
       "<div>\n",
       "<style scoped>\n",
       "    .dataframe tbody tr th:only-of-type {\n",
       "        vertical-align: middle;\n",
       "    }\n",
       "\n",
       "    .dataframe tbody tr th {\n",
       "        vertical-align: top;\n",
       "    }\n",
       "\n",
       "    .dataframe thead th {\n",
       "        text-align: right;\n",
       "    }\n",
       "</style>\n",
       "<table border=\"1\" class=\"dataframe\">\n",
       "  <thead>\n",
       "    <tr style=\"text-align: right;\">\n",
       "      <th></th>\n",
       "      <th>age_upon_outcome</th>\n",
       "      <th>animal_id</th>\n",
       "      <th>animal_type</th>\n",
       "      <th>breed</th>\n",
       "      <th>color</th>\n",
       "      <th>date_of_birth</th>\n",
       "      <th>datetime</th>\n",
       "      <th>monthyear</th>\n",
       "      <th>name</th>\n",
       "      <th>outcome_subtype</th>\n",
       "      <th>outcome_type</th>\n",
       "      <th>sex_upon_outcome</th>\n",
       "    </tr>\n",
       "  </thead>\n",
       "  <tbody>\n",
       "    <tr>\n",
       "      <td>10753</td>\n",
       "      <td>1 year</td>\n",
       "      <td>A671017</td>\n",
       "      <td>Other</td>\n",
       "      <td>Fox Mix</td>\n",
       "      <td>Brown/Black</td>\n",
       "      <td>2013-01-17T00:00:00</td>\n",
       "      <td>2014-01-20T08:27:00</td>\n",
       "      <td>2014-01-20T08:27:00</td>\n",
       "      <td>NaN</td>\n",
       "      <td>NaN</td>\n",
       "      <td>NaN</td>\n",
       "      <td>Unknown</td>\n",
       "    </tr>\n",
       "    <tr>\n",
       "      <td>13270</td>\n",
       "      <td>0 years</td>\n",
       "      <td>A674209</td>\n",
       "      <td>Other</td>\n",
       "      <td>Bat Mix</td>\n",
       "      <td>Brown</td>\n",
       "      <td>2014-03-09T00:00:00</td>\n",
       "      <td>2014-03-09T18:15:00</td>\n",
       "      <td>2014-03-09T18:15:00</td>\n",
       "      <td>NaN</td>\n",
       "      <td>NaN</td>\n",
       "      <td>NaN</td>\n",
       "      <td>Unknown</td>\n",
       "    </tr>\n",
       "    <tr>\n",
       "      <td>13302</td>\n",
       "      <td>4 weeks</td>\n",
       "      <td>A679066</td>\n",
       "      <td>Other</td>\n",
       "      <td>Rabbit Sh</td>\n",
       "      <td>Brown</td>\n",
       "      <td>2014-04-16T00:00:00</td>\n",
       "      <td>2014-05-16T00:00:00</td>\n",
       "      <td>2014-05-16T00:00:00</td>\n",
       "      <td>NaN</td>\n",
       "      <td>NaN</td>\n",
       "      <td>NaN</td>\n",
       "      <td>Unknown</td>\n",
       "    </tr>\n",
       "    <tr>\n",
       "      <td>16951</td>\n",
       "      <td>1 year</td>\n",
       "      <td>A686025</td>\n",
       "      <td>Other</td>\n",
       "      <td>Bat Mix</td>\n",
       "      <td>Brown</td>\n",
       "      <td>2013-08-15T00:00:00</td>\n",
       "      <td>2014-08-16T08:35:00</td>\n",
       "      <td>2014-08-16T08:35:00</td>\n",
       "      <td>NaN</td>\n",
       "      <td>NaN</td>\n",
       "      <td>NaN</td>\n",
       "      <td>Unknown</td>\n",
       "    </tr>\n",
       "    <tr>\n",
       "      <td>29214</td>\n",
       "      <td>1 year</td>\n",
       "      <td>A744013</td>\n",
       "      <td>Other</td>\n",
       "      <td>Bat Mix</td>\n",
       "      <td>Black</td>\n",
       "      <td>2016-02-21T00:00:00</td>\n",
       "      <td>2017-02-24T09:00:00</td>\n",
       "      <td>2017-02-24T09:00:00</td>\n",
       "      <td>NaN</td>\n",
       "      <td>NaN</td>\n",
       "      <td>NaN</td>\n",
       "      <td>Unknown</td>\n",
       "    </tr>\n",
       "    <tr>\n",
       "      <td>64626</td>\n",
       "      <td>1 month</td>\n",
       "      <td>A755711</td>\n",
       "      <td>Cat</td>\n",
       "      <td>Domestic Shorthair Mix</td>\n",
       "      <td>Black</td>\n",
       "      <td>2017-07-06T00:00:00</td>\n",
       "      <td>2017-08-21T10:09:00</td>\n",
       "      <td>2017-08-21T10:09:00</td>\n",
       "      <td>*Dewey</td>\n",
       "      <td>NaN</td>\n",
       "      <td>NaN</td>\n",
       "      <td>Intact Male</td>\n",
       "    </tr>\n",
       "    <tr>\n",
       "      <td>68246</td>\n",
       "      <td>NaN</td>\n",
       "      <td>A737705</td>\n",
       "      <td>Dog</td>\n",
       "      <td>Labrador Retriever Mix</td>\n",
       "      <td>Black/White</td>\n",
       "      <td>2013-11-02T00:00:00</td>\n",
       "      <td>2016-11-19T16:35:00</td>\n",
       "      <td>2016-11-19T16:35:00</td>\n",
       "      <td>*Heddy</td>\n",
       "      <td>NaN</td>\n",
       "      <td>NaN</td>\n",
       "      <td>NaN</td>\n",
       "    </tr>\n",
       "    <tr>\n",
       "      <td>69847</td>\n",
       "      <td>1 month</td>\n",
       "      <td>A755715</td>\n",
       "      <td>Cat</td>\n",
       "      <td>Domestic Shorthair Mix</td>\n",
       "      <td>Black Smoke</td>\n",
       "      <td>2017-06-29T00:00:00</td>\n",
       "      <td>2017-08-21T10:09:00</td>\n",
       "      <td>2017-08-21T10:09:00</td>\n",
       "      <td>*Louie</td>\n",
       "      <td>NaN</td>\n",
       "      <td>NaN</td>\n",
       "      <td>Intact Female</td>\n",
       "    </tr>\n",
       "    <tr>\n",
       "      <td>72037</td>\n",
       "      <td>1 month</td>\n",
       "      <td>A755716</td>\n",
       "      <td>Cat</td>\n",
       "      <td>Domestic Shorthair Mix</td>\n",
       "      <td>Blue</td>\n",
       "      <td>2017-07-06T00:00:00</td>\n",
       "      <td>2017-08-21T10:09:00</td>\n",
       "      <td>2017-08-21T10:09:00</td>\n",
       "      <td>*Huey</td>\n",
       "      <td>NaN</td>\n",
       "      <td>NaN</td>\n",
       "      <td>Intact Female</td>\n",
       "    </tr>\n",
       "    <tr>\n",
       "      <td>76709</td>\n",
       "      <td>10 years</td>\n",
       "      <td>A718046</td>\n",
       "      <td>Dog</td>\n",
       "      <td>Chihuahua Longhair Mix</td>\n",
       "      <td>Cream</td>\n",
       "      <td>2005-12-20T00:00:00</td>\n",
       "      <td>2016-03-26T00:00:00</td>\n",
       "      <td>2016-03-26T00:00:00</td>\n",
       "      <td>Bailey</td>\n",
       "      <td>NaN</td>\n",
       "      <td>NaN</td>\n",
       "      <td>Neutered Male</td>\n",
       "    </tr>\n",
       "    <tr>\n",
       "      <td>76710</td>\n",
       "      <td>10 months</td>\n",
       "      <td>A737930</td>\n",
       "      <td>Dog</td>\n",
       "      <td>Pit Bull Mix</td>\n",
       "      <td>Fawn/White</td>\n",
       "      <td>2016-01-08T00:00:00</td>\n",
       "      <td>2016-11-17T10:59:00</td>\n",
       "      <td>2016-11-17T10:59:00</td>\n",
       "      <td>King</td>\n",
       "      <td>NaN</td>\n",
       "      <td>NaN</td>\n",
       "      <td>Intact Male</td>\n",
       "    </tr>\n",
       "    <tr>\n",
       "      <td>76825</td>\n",
       "      <td>NaN</td>\n",
       "      <td>A764319</td>\n",
       "      <td>Dog</td>\n",
       "      <td>Pit Bull Mix</td>\n",
       "      <td>Black/White</td>\n",
       "      <td>2016-12-27T00:00:00</td>\n",
       "      <td>2017-12-30T16:47:00</td>\n",
       "      <td>2017-12-30T16:47:00</td>\n",
       "      <td>*Emma</td>\n",
       "      <td>NaN</td>\n",
       "      <td>NaN</td>\n",
       "      <td>Intact Female</td>\n",
       "    </tr>\n",
       "  </tbody>\n",
       "</table>\n",
       "</div>"
      ],
      "text/plain": [
       "      age_upon_outcome animal_id animal_type                   breed  \\\n",
       "10753           1 year   A671017       Other                 Fox Mix   \n",
       "13270          0 years   A674209       Other                 Bat Mix   \n",
       "13302          4 weeks   A679066       Other               Rabbit Sh   \n",
       "16951           1 year   A686025       Other                 Bat Mix   \n",
       "29214           1 year   A744013       Other                 Bat Mix   \n",
       "64626          1 month   A755711         Cat  Domestic Shorthair Mix   \n",
       "68246              NaN   A737705         Dog  Labrador Retriever Mix   \n",
       "69847          1 month   A755715         Cat  Domestic Shorthair Mix   \n",
       "72037          1 month   A755716         Cat  Domestic Shorthair Mix   \n",
       "76709         10 years   A718046         Dog  Chihuahua Longhair Mix   \n",
       "76710        10 months   A737930         Dog            Pit Bull Mix   \n",
       "76825              NaN   A764319         Dog            Pit Bull Mix   \n",
       "\n",
       "             color        date_of_birth             datetime  \\\n",
       "10753  Brown/Black  2013-01-17T00:00:00  2014-01-20T08:27:00   \n",
       "13270        Brown  2014-03-09T00:00:00  2014-03-09T18:15:00   \n",
       "13302        Brown  2014-04-16T00:00:00  2014-05-16T00:00:00   \n",
       "16951        Brown  2013-08-15T00:00:00  2014-08-16T08:35:00   \n",
       "29214        Black  2016-02-21T00:00:00  2017-02-24T09:00:00   \n",
       "64626        Black  2017-07-06T00:00:00  2017-08-21T10:09:00   \n",
       "68246  Black/White  2013-11-02T00:00:00  2016-11-19T16:35:00   \n",
       "69847  Black Smoke  2017-06-29T00:00:00  2017-08-21T10:09:00   \n",
       "72037         Blue  2017-07-06T00:00:00  2017-08-21T10:09:00   \n",
       "76709        Cream  2005-12-20T00:00:00  2016-03-26T00:00:00   \n",
       "76710   Fawn/White  2016-01-08T00:00:00  2016-11-17T10:59:00   \n",
       "76825  Black/White  2016-12-27T00:00:00  2017-12-30T16:47:00   \n",
       "\n",
       "                 monthyear    name outcome_subtype outcome_type  \\\n",
       "10753  2014-01-20T08:27:00     NaN             NaN          NaN   \n",
       "13270  2014-03-09T18:15:00     NaN             NaN          NaN   \n",
       "13302  2014-05-16T00:00:00     NaN             NaN          NaN   \n",
       "16951  2014-08-16T08:35:00     NaN             NaN          NaN   \n",
       "29214  2017-02-24T09:00:00     NaN             NaN          NaN   \n",
       "64626  2017-08-21T10:09:00  *Dewey             NaN          NaN   \n",
       "68246  2016-11-19T16:35:00  *Heddy             NaN          NaN   \n",
       "69847  2017-08-21T10:09:00  *Louie             NaN          NaN   \n",
       "72037  2017-08-21T10:09:00   *Huey             NaN          NaN   \n",
       "76709  2016-03-26T00:00:00  Bailey             NaN          NaN   \n",
       "76710  2016-11-17T10:59:00    King             NaN          NaN   \n",
       "76825  2017-12-30T16:47:00   *Emma             NaN          NaN   \n",
       "\n",
       "      sex_upon_outcome  \n",
       "10753          Unknown  \n",
       "13270          Unknown  \n",
       "13302          Unknown  \n",
       "16951          Unknown  \n",
       "29214          Unknown  \n",
       "64626      Intact Male  \n",
       "68246              NaN  \n",
       "69847    Intact Female  \n",
       "72037    Intact Female  \n",
       "76709    Neutered Male  \n",
       "76710      Intact Male  \n",
       "76825    Intact Female  "
      ]
     },
     "execution_count": 430,
     "metadata": {},
     "output_type": "execute_result"
    }
   ],
   "source": [
    "data[data.outcome_type.isna()]"
   ]
  },
  {
   "cell_type": "markdown",
   "metadata": {},
   "source": [
    "По полю outcome_type - менее 0.01 % наблюдений, 5 видов  разных живтных, вряд ли удаление пропусков по признаку outcome_type исказит общую картину / удаляем 12 записей с отсутствующими значениями  outcome_type"
   ]
  },
  {
   "cell_type": "code",
   "execution_count": 431,
   "metadata": {},
   "outputs": [
    {
     "data": {
      "text/plain": [
       "Adoption           33112\n",
       "Transfer           23499\n",
       "Return to Owner    14354\n",
       "Euthanasia          6080\n",
       "Died                 680\n",
       "Disposal             307\n",
       "Rto-Adopt            150\n",
       "Missing               46\n",
       "Relocate              16\n",
       "Name: outcome_type, dtype: int64"
      ]
     },
     "execution_count": 431,
     "metadata": {},
     "output_type": "execute_result"
    }
   ],
   "source": [
    "data.dropna(subset = ['outcome_type'], inplace=True)\n",
    "data.outcome_type.value_counts()"
   ]
  },
  {
   "cell_type": "code",
   "execution_count": 432,
   "metadata": {},
   "outputs": [
    {
     "data": {
      "text/plain": [
       "Adoption              33112\n",
       "Transfer              23499\n",
       "Return to Owner       14354\n",
       "Euthanasia             6080\n",
       "Died                    680\n",
       "Outcome_type_other      519\n",
       "Name: outcome_type, dtype: int64"
      ]
     },
     "execution_count": 432,
     "metadata": {},
     "output_type": "execute_result"
    }
   ],
   "source": [
    "data.loc[data.outcome_type == 'Disposal', 'outcome_type'] = 'Outcome_type_other'\n",
    "data.loc[data.outcome_type == 'Rto-Adopt','outcome_type'] = 'Outcome_type_other'\n",
    "data.loc[data.outcome_type == 'Missing',  'outcome_type'] = 'Outcome_type_other'\n",
    "data.loc[data.outcome_type == 'Relocate', 'outcome_type'] = 'Outcome_type_other'\n",
    "data.loc[data.outcome_type == 'Other',    'outcome_type'] = 'Outcome_type_other'\n",
    "data.outcome_type.value_counts()"
   ]
  },
  {
   "cell_type": "code",
   "execution_count": 433,
   "metadata": {},
   "outputs": [
    {
     "data": {
      "text/html": [
       "<div>\n",
       "<style scoped>\n",
       "    .dataframe tbody tr th:only-of-type {\n",
       "        vertical-align: middle;\n",
       "    }\n",
       "\n",
       "    .dataframe tbody tr th {\n",
       "        vertical-align: top;\n",
       "    }\n",
       "\n",
       "    .dataframe thead th {\n",
       "        text-align: right;\n",
       "    }\n",
       "</style>\n",
       "<table border=\"1\" class=\"dataframe\">\n",
       "  <thead>\n",
       "    <tr style=\"text-align: right;\">\n",
       "      <th></th>\n",
       "      <th>Adoption</th>\n",
       "      <th>Died</th>\n",
       "      <th>Euthanasia</th>\n",
       "      <th>Outcome_type_other</th>\n",
       "      <th>Return to Owner</th>\n",
       "      <th>Transfer</th>\n",
       "    </tr>\n",
       "  </thead>\n",
       "  <tbody>\n",
       "    <tr>\n",
       "      <td>0</td>\n",
       "      <td>0.0</td>\n",
       "      <td>0.0</td>\n",
       "      <td>0.0</td>\n",
       "      <td>0.0</td>\n",
       "      <td>0.0</td>\n",
       "      <td>1.0</td>\n",
       "    </tr>\n",
       "  </tbody>\n",
       "</table>\n",
       "</div>"
      ],
      "text/plain": [
       "   Adoption  Died  Euthanasia  Outcome_type_other  Return to Owner  Transfer\n",
       "0       0.0   0.0         0.0                 0.0              0.0       1.0"
      ]
     },
     "execution_count": 433,
     "metadata": {},
     "output_type": "execute_result"
    }
   ],
   "source": [
    "# преобразуем параметр с помощью one hot encoder\n",
    "from sklearn.preprocessing import OneHotEncoder\n",
    "ohe_enc               = OneHotEncoder()\n",
    "outcome_type_values   = ohe_enc.fit_transform(data[['outcome_type']]).toarray()\n",
    "outcome_type_columns  = ohe_enc.categories_[0]\n",
    "outcome_type_data     = pd.DataFrame(outcome_type_values, columns = outcome_type_columns)\n",
    "outcome_type_data.head(1)"
   ]
  },
  {
   "cell_type": "code",
   "execution_count": 434,
   "metadata": {},
   "outputs": [
    {
     "data": {
      "text/html": [
       "<div>\n",
       "<style scoped>\n",
       "    .dataframe tbody tr th:only-of-type {\n",
       "        vertical-align: middle;\n",
       "    }\n",
       "\n",
       "    .dataframe tbody tr th {\n",
       "        vertical-align: top;\n",
       "    }\n",
       "\n",
       "    .dataframe thead th {\n",
       "        text-align: right;\n",
       "    }\n",
       "</style>\n",
       "<table border=\"1\" class=\"dataframe\">\n",
       "  <thead>\n",
       "    <tr style=\"text-align: right;\">\n",
       "      <th></th>\n",
       "      <th>index</th>\n",
       "      <th>age_upon_outcome</th>\n",
       "      <th>animal_id</th>\n",
       "      <th>animal_type</th>\n",
       "      <th>breed</th>\n",
       "      <th>color</th>\n",
       "      <th>date_of_birth</th>\n",
       "      <th>datetime</th>\n",
       "      <th>monthyear</th>\n",
       "      <th>name</th>\n",
       "      <th>outcome_subtype</th>\n",
       "      <th>outcome_type</th>\n",
       "      <th>sex_upon_outcome</th>\n",
       "      <th>Adoption</th>\n",
       "      <th>Died</th>\n",
       "      <th>Euthanasia</th>\n",
       "      <th>Outcome_type_other</th>\n",
       "      <th>Return to Owner</th>\n",
       "      <th>Transfer</th>\n",
       "    </tr>\n",
       "  </thead>\n",
       "  <tbody>\n",
       "    <tr>\n",
       "      <td>0</td>\n",
       "      <td>0</td>\n",
       "      <td>2 weeks</td>\n",
       "      <td>A684346</td>\n",
       "      <td>Cat</td>\n",
       "      <td>Domestic Shorthair Mix</td>\n",
       "      <td>Orange Tabby</td>\n",
       "      <td>2014-07-07T00:00:00</td>\n",
       "      <td>2014-07-22T16:04:00</td>\n",
       "      <td>2014-07-22T16:04:00</td>\n",
       "      <td>NaN</td>\n",
       "      <td>Partner</td>\n",
       "      <td>Transfer</td>\n",
       "      <td>Intact Male</td>\n",
       "      <td>0.0</td>\n",
       "      <td>0.0</td>\n",
       "      <td>0.0</td>\n",
       "      <td>0.0</td>\n",
       "      <td>0.0</td>\n",
       "      <td>1.0</td>\n",
       "    </tr>\n",
       "  </tbody>\n",
       "</table>\n",
       "</div>"
      ],
      "text/plain": [
       "   index age_upon_outcome animal_id animal_type                   breed  \\\n",
       "0      0          2 weeks   A684346         Cat  Domestic Shorthair Mix   \n",
       "\n",
       "          color        date_of_birth             datetime  \\\n",
       "0  Orange Tabby  2014-07-07T00:00:00  2014-07-22T16:04:00   \n",
       "\n",
       "             monthyear name outcome_subtype outcome_type sex_upon_outcome  \\\n",
       "0  2014-07-22T16:04:00  NaN         Partner     Transfer      Intact Male   \n",
       "\n",
       "   Adoption  Died  Euthanasia  Outcome_type_other  Return to Owner  Transfer  \n",
       "0       0.0   0.0         0.0                 0.0              0.0       1.0  "
      ]
     },
     "execution_count": 434,
     "metadata": {},
     "output_type": "execute_result"
    }
   ],
   "source": [
    "# соединяем таблицы\n",
    "data.reset_index(inplace=True)\n",
    "data = pd.concat([data, outcome_type_data], axis=1)\n",
    "data.head(1)"
   ]
  },
  {
   "cell_type": "markdown",
   "metadata": {},
   "source": [
    "Дальше смотрим, насколько второй результирующий признак - outcome_subtype- информативен, способен внести ясности, увидим  распределение результирующих признаков между собой, "
   ]
  },
  {
   "cell_type": "code",
   "execution_count": 435,
   "metadata": {},
   "outputs": [
    {
     "data": {
      "text/html": [
       "<div>\n",
       "<style scoped>\n",
       "    .dataframe tbody tr th:only-of-type {\n",
       "        vertical-align: middle;\n",
       "    }\n",
       "\n",
       "    .dataframe tbody tr th {\n",
       "        vertical-align: top;\n",
       "    }\n",
       "\n",
       "    .dataframe thead tr th {\n",
       "        text-align: left;\n",
       "    }\n",
       "\n",
       "    .dataframe thead tr:last-of-type th {\n",
       "        text-align: right;\n",
       "    }\n",
       "</style>\n",
       "<table border=\"1\" class=\"dataframe\">\n",
       "  <thead>\n",
       "    <tr>\n",
       "      <th></th>\n",
       "      <th colspan=\"5\" halign=\"left\">count</th>\n",
       "    </tr>\n",
       "    <tr>\n",
       "      <th></th>\n",
       "      <th colspan=\"5\" halign=\"left\">animal_type</th>\n",
       "    </tr>\n",
       "    <tr>\n",
       "      <th>outcome_type</th>\n",
       "      <th>Adoption</th>\n",
       "      <th>Died</th>\n",
       "      <th>Euthanasia</th>\n",
       "      <th>Outcome_type_other</th>\n",
       "      <th>Transfer</th>\n",
       "    </tr>\n",
       "    <tr>\n",
       "      <th>outcome_subtype</th>\n",
       "      <th></th>\n",
       "      <th></th>\n",
       "      <th></th>\n",
       "      <th></th>\n",
       "      <th></th>\n",
       "    </tr>\n",
       "  </thead>\n",
       "  <tbody>\n",
       "    <tr>\n",
       "      <td>Aggressive</td>\n",
       "      <td>NaN</td>\n",
       "      <td>NaN</td>\n",
       "      <td>506.0</td>\n",
       "      <td>NaN</td>\n",
       "      <td>NaN</td>\n",
       "    </tr>\n",
       "    <tr>\n",
       "      <td>At Vet</td>\n",
       "      <td>NaN</td>\n",
       "      <td>33.0</td>\n",
       "      <td>26.0</td>\n",
       "      <td>NaN</td>\n",
       "      <td>NaN</td>\n",
       "    </tr>\n",
       "    <tr>\n",
       "      <td>Barn</td>\n",
       "      <td>1.0</td>\n",
       "      <td>NaN</td>\n",
       "      <td>NaN</td>\n",
       "      <td>NaN</td>\n",
       "      <td>2.0</td>\n",
       "    </tr>\n",
       "    <tr>\n",
       "      <td>Behavior</td>\n",
       "      <td>NaN</td>\n",
       "      <td>NaN</td>\n",
       "      <td>142.0</td>\n",
       "      <td>NaN</td>\n",
       "      <td>NaN</td>\n",
       "    </tr>\n",
       "    <tr>\n",
       "      <td>Court/Investigation</td>\n",
       "      <td>NaN</td>\n",
       "      <td>NaN</td>\n",
       "      <td>18.0</td>\n",
       "      <td>NaN</td>\n",
       "      <td>NaN</td>\n",
       "    </tr>\n",
       "    <tr>\n",
       "      <td>Enroute</td>\n",
       "      <td>NaN</td>\n",
       "      <td>45.0</td>\n",
       "      <td>NaN</td>\n",
       "      <td>NaN</td>\n",
       "      <td>NaN</td>\n",
       "    </tr>\n",
       "    <tr>\n",
       "      <td>Foster</td>\n",
       "      <td>5558.0</td>\n",
       "      <td>NaN</td>\n",
       "      <td>NaN</td>\n",
       "      <td>NaN</td>\n",
       "      <td>NaN</td>\n",
       "    </tr>\n",
       "    <tr>\n",
       "      <td>In Foster</td>\n",
       "      <td>NaN</td>\n",
       "      <td>164.0</td>\n",
       "      <td>NaN</td>\n",
       "      <td>18.0</td>\n",
       "      <td>NaN</td>\n",
       "    </tr>\n",
       "    <tr>\n",
       "      <td>In Kennel</td>\n",
       "      <td>NaN</td>\n",
       "      <td>335.0</td>\n",
       "      <td>NaN</td>\n",
       "      <td>8.0</td>\n",
       "      <td>NaN</td>\n",
       "    </tr>\n",
       "    <tr>\n",
       "      <td>In Surgery</td>\n",
       "      <td>NaN</td>\n",
       "      <td>16.0</td>\n",
       "      <td>NaN</td>\n",
       "      <td>NaN</td>\n",
       "      <td>NaN</td>\n",
       "    </tr>\n",
       "    <tr>\n",
       "      <td>Medical</td>\n",
       "      <td>NaN</td>\n",
       "      <td>NaN</td>\n",
       "      <td>259.0</td>\n",
       "      <td>NaN</td>\n",
       "      <td>NaN</td>\n",
       "    </tr>\n",
       "    <tr>\n",
       "      <td>Offsite</td>\n",
       "      <td>367.0</td>\n",
       "      <td>NaN</td>\n",
       "      <td>NaN</td>\n",
       "      <td>NaN</td>\n",
       "      <td>NaN</td>\n",
       "    </tr>\n",
       "    <tr>\n",
       "      <td>Partner</td>\n",
       "      <td>NaN</td>\n",
       "      <td>NaN</td>\n",
       "      <td>NaN</td>\n",
       "      <td>NaN</td>\n",
       "      <td>19660.0</td>\n",
       "    </tr>\n",
       "    <tr>\n",
       "      <td>Possible Theft</td>\n",
       "      <td>NaN</td>\n",
       "      <td>NaN</td>\n",
       "      <td>NaN</td>\n",
       "      <td>9.0</td>\n",
       "      <td>NaN</td>\n",
       "    </tr>\n",
       "    <tr>\n",
       "      <td>Rabies Risk</td>\n",
       "      <td>NaN</td>\n",
       "      <td>NaN</td>\n",
       "      <td>2417.0</td>\n",
       "      <td>NaN</td>\n",
       "      <td>NaN</td>\n",
       "    </tr>\n",
       "    <tr>\n",
       "      <td>SCRP</td>\n",
       "      <td>NaN</td>\n",
       "      <td>NaN</td>\n",
       "      <td>NaN</td>\n",
       "      <td>NaN</td>\n",
       "      <td>3211.0</td>\n",
       "    </tr>\n",
       "    <tr>\n",
       "      <td>Snr</td>\n",
       "      <td>NaN</td>\n",
       "      <td>NaN</td>\n",
       "      <td>NaN</td>\n",
       "      <td>NaN</td>\n",
       "      <td>626.0</td>\n",
       "    </tr>\n",
       "    <tr>\n",
       "      <td>Suffering</td>\n",
       "      <td>NaN</td>\n",
       "      <td>NaN</td>\n",
       "      <td>2514.0</td>\n",
       "      <td>NaN</td>\n",
       "      <td>NaN</td>\n",
       "    </tr>\n",
       "    <tr>\n",
       "      <td>Underage</td>\n",
       "      <td>NaN</td>\n",
       "      <td>NaN</td>\n",
       "      <td>28.0</td>\n",
       "      <td>NaN</td>\n",
       "      <td>NaN</td>\n",
       "    </tr>\n",
       "  </tbody>\n",
       "</table>\n",
       "</div>"
      ],
      "text/plain": [
       "                          count                                              \n",
       "                    animal_type                                              \n",
       "outcome_type           Adoption   Died Euthanasia Outcome_type_other Transfer\n",
       "outcome_subtype                                                              \n",
       "Aggressive                  NaN    NaN      506.0                NaN      NaN\n",
       "At Vet                      NaN   33.0       26.0                NaN      NaN\n",
       "Barn                        1.0    NaN        NaN                NaN      2.0\n",
       "Behavior                    NaN    NaN      142.0                NaN      NaN\n",
       "Court/Investigation         NaN    NaN       18.0                NaN      NaN\n",
       "Enroute                     NaN   45.0        NaN                NaN      NaN\n",
       "Foster                   5558.0    NaN        NaN                NaN      NaN\n",
       "In Foster                   NaN  164.0        NaN               18.0      NaN\n",
       "In Kennel                   NaN  335.0        NaN                8.0      NaN\n",
       "In Surgery                  NaN   16.0        NaN                NaN      NaN\n",
       "Medical                     NaN    NaN      259.0                NaN      NaN\n",
       "Offsite                   367.0    NaN        NaN                NaN      NaN\n",
       "Partner                     NaN    NaN        NaN                NaN  19660.0\n",
       "Possible Theft              NaN    NaN        NaN                9.0      NaN\n",
       "Rabies Risk                 NaN    NaN     2417.0                NaN      NaN\n",
       "SCRP                        NaN    NaN        NaN                NaN   3211.0\n",
       "Snr                         NaN    NaN        NaN                NaN    626.0\n",
       "Suffering                   NaN    NaN     2514.0                NaN      NaN\n",
       "Underage                    NaN    NaN       28.0                NaN      NaN"
      ]
     },
     "execution_count": 435,
     "metadata": {},
     "output_type": "execute_result"
    }
   ],
   "source": [
    "pt_     = pd.pivot_table(data, \n",
    "                         values     = ['animal_type'],  \n",
    "                         index      = ['outcome_subtype'],\n",
    "                         columns    = ['outcome_type'], \n",
    "                         aggfunc    = ['count'])\n",
    "pt_"
   ]
  },
  {
   "cell_type": "markdown",
   "metadata": {},
   "source": [
    "Видим, что признак outcome_subtype (особенно в части разъяснения меток Adoption и Transfer) мало что дает /  признак outcome_subtype на удаление"
   ]
  },
  {
   "cell_type": "markdown",
   "metadata": {},
   "source": [
    "### 2. Переменные времени: age_upon_outcome, date_of_birth, datetime, monthyear\n"
   ]
  },
  {
   "cell_type": "markdown",
   "metadata": {},
   "source": [
    "Поля datetime и monthyear очень похожи, проверим соответствие значений:"
   ]
  },
  {
   "cell_type": "code",
   "execution_count": 436,
   "metadata": {},
   "outputs": [
    {
     "data": {
      "text/plain": [
       "0 days    78244\n",
       "Name: datetime-monthyear, dtype: int64"
      ]
     },
     "execution_count": 436,
     "metadata": {},
     "output_type": "execute_result"
    }
   ],
   "source": [
    "data['date_of_birth']          = data['date_of_birth'].astype('datetime64[ns]') \n",
    "data['datetime']               = data['datetime'].astype('datetime64[ns]') \n",
    "data['monthyear']              = data['monthyear'].astype('datetime64[ns]') \n",
    "\n",
    "data['datetime-monthyear']     = data['datetime'] - data['monthyear']\n",
    "data['datetime-monthyear'].value_counts()  #  всегда  = 0\n",
    "\n",
    "# data['monthyear'] всегда = data['datetime']  # одно из полей очевидно избыточно | к удалению"
   ]
  },
  {
   "cell_type": "code",
   "execution_count": 437,
   "metadata": {},
   "outputs": [],
   "source": [
    "data.dropna(subset = ['age_upon_outcome'], inplace=True)"
   ]
  },
  {
   "cell_type": "code",
   "execution_count": 438,
   "metadata": {},
   "outputs": [
    {
     "data": {
      "text/html": [
       "<div>\n",
       "<style scoped>\n",
       "    .dataframe tbody tr th:only-of-type {\n",
       "        vertical-align: middle;\n",
       "    }\n",
       "\n",
       "    .dataframe tbody tr th {\n",
       "        vertical-align: top;\n",
       "    }\n",
       "\n",
       "    .dataframe thead th {\n",
       "        text-align: right;\n",
       "    }\n",
       "</style>\n",
       "<table border=\"1\" class=\"dataframe\">\n",
       "  <thead>\n",
       "    <tr style=\"text-align: right;\">\n",
       "      <th></th>\n",
       "      <th>index</th>\n",
       "      <th>age_upon_outcome</th>\n",
       "      <th>animal_id</th>\n",
       "      <th>animal_type</th>\n",
       "      <th>breed</th>\n",
       "      <th>color</th>\n",
       "      <th>date_of_birth</th>\n",
       "      <th>datetime</th>\n",
       "      <th>monthyear</th>\n",
       "      <th>name</th>\n",
       "      <th>...</th>\n",
       "      <th>sex_upon_outcome</th>\n",
       "      <th>Adoption</th>\n",
       "      <th>Died</th>\n",
       "      <th>Euthanasia</th>\n",
       "      <th>Outcome_type_other</th>\n",
       "      <th>Return to Owner</th>\n",
       "      <th>Transfer</th>\n",
       "      <th>datetime-monthyear</th>\n",
       "      <th>age_estimate_year</th>\n",
       "      <th>birth_year</th>\n",
       "    </tr>\n",
       "  </thead>\n",
       "  <tbody>\n",
       "    <tr>\n",
       "      <td>0</td>\n",
       "      <td>0</td>\n",
       "      <td>2 weeks</td>\n",
       "      <td>A684346</td>\n",
       "      <td>Cat</td>\n",
       "      <td>Domestic Shorthair Mix</td>\n",
       "      <td>Orange Tabby</td>\n",
       "      <td>2014-07-07</td>\n",
       "      <td>2014-07-22 16:04:00</td>\n",
       "      <td>2014-07-22 16:04:00</td>\n",
       "      <td>NaN</td>\n",
       "      <td>...</td>\n",
       "      <td>Intact Male</td>\n",
       "      <td>0.0</td>\n",
       "      <td>0.0</td>\n",
       "      <td>0.0</td>\n",
       "      <td>0.0</td>\n",
       "      <td>0.0</td>\n",
       "      <td>1.0</td>\n",
       "      <td>0 days</td>\n",
       "      <td>0.0</td>\n",
       "      <td>2014</td>\n",
       "    </tr>\n",
       "  </tbody>\n",
       "</table>\n",
       "<p>1 rows × 22 columns</p>\n",
       "</div>"
      ],
      "text/plain": [
       "   index age_upon_outcome animal_id animal_type                   breed  \\\n",
       "0      0          2 weeks   A684346         Cat  Domestic Shorthair Mix   \n",
       "\n",
       "          color date_of_birth            datetime           monthyear name  \\\n",
       "0  Orange Tabby    2014-07-07 2014-07-22 16:04:00 2014-07-22 16:04:00  NaN   \n",
       "\n",
       "   ... sex_upon_outcome Adoption Died  Euthanasia  Outcome_type_other  \\\n",
       "0  ...      Intact Male      0.0  0.0         0.0                 0.0   \n",
       "\n",
       "   Return to Owner  Transfer  datetime-monthyear  age_estimate_year birth_year  \n",
       "0              0.0       1.0              0 days                0.0       2014  \n",
       "\n",
       "[1 rows x 22 columns]"
      ]
     },
     "execution_count": 438,
     "metadata": {},
     "output_type": "execute_result"
    }
   ],
   "source": [
    "data['age_estimate_year'] = ((data['datetime'] - data['date_of_birth']).dt.days/365.25).round(0)\n",
    "data['birth_year']        = data['date_of_birth'].dt.year\n",
    "data.head(1)"
   ]
  },
  {
   "cell_type": "code",
   "execution_count": 439,
   "metadata": {},
   "outputs": [
    {
     "data": {
      "text/plain": [
       "<matplotlib.axes._subplots.AxesSubplot at 0x67c7cc08>"
      ]
     },
     "execution_count": 439,
     "metadata": {},
     "output_type": "execute_result"
    },
    {
     "data": {
      "image/png": "[encoded data removed]",
      "text/plain": [
       "<Figure size 720x432 with 1 Axes>"
      ]
     },
     "metadata": {},
     "output_type": "display_data"
    }
   ],
   "source": [
    "data[data['animal_type']=='Dog']['birth_year'].hist(figsize=(10,6), bins=50)"
   ]
  },
  {
   "cell_type": "code",
   "execution_count": 440,
   "metadata": {},
   "outputs": [
    {
     "data": {
      "text/plain": [
       "<matplotlib.axes._subplots.AxesSubplot at 0x6521c288>"
      ]
     },
     "execution_count": 440,
     "metadata": {},
     "output_type": "execute_result"
    },
    {
     "data": {
      "image/png": "[encoded data removed]",
      "text/plain": [
       "<Figure size 720x432 with 1 Axes>"
      ]
     },
     "metadata": {},
     "output_type": "display_data"
    }
   ],
   "source": [
    "data[data['animal_type']=='Dog']['age_estimate_year'].hist(figsize=(10,6), bins=20)"
   ]
  },
  {
   "cell_type": "markdown",
   "metadata": {},
   "source": [
    "###  3. Виды животных и породы"
   ]
  },
  {
   "cell_type": "code",
   "execution_count": 441,
   "metadata": {},
   "outputs": [
    {
     "data": {
      "text/plain": [
       "Dog          44235\n",
       "Cat          29418\n",
       "Other         4243\n",
       "Bird           333\n",
       "Livestock        9\n",
       "Name: animal_type, dtype: int64"
      ]
     },
     "execution_count": 441,
     "metadata": {},
     "output_type": "execute_result"
    }
   ],
   "source": [
    "data['animal_type'].value_counts()"
   ]
  },
  {
   "cell_type": "code",
   "execution_count": 442,
   "metadata": {},
   "outputs": [
    {
     "data": {
      "text/plain": [
       "Bat Mix           1282\n",
       "Bat                799\n",
       "Raccoon Mix        465\n",
       "Rabbit Sh Mix      291\n",
       "Raccoon            230\n",
       "Opossum Mix        176\n",
       "Guinea Pig Mix     103\n",
       "Opossum            102\n",
       "Skunk Mix           79\n",
       "Squirrel Mix        70\n",
       "Name: breed, dtype: int64"
      ]
     },
     "execution_count": 442,
     "metadata": {},
     "output_type": "execute_result"
    }
   ],
   "source": [
    "data[data['animal_type']=='Other'].breed.value_counts().head(10)"
   ]
  },
  {
   "cell_type": "markdown",
   "metadata": {},
   "source": [
    "Белки, опоссумы летучие мыши и попугаи - в топку. \n",
    "Ограничим исследование только традиционными домашними животными, в отношении которых понятна логика поведения человека вокруг животного и я обладаю хоть какими то компетенциями ..."
   ]
  },
  {
   "cell_type": "code",
   "execution_count": 443,
   "metadata": {},
   "outputs": [
    {
     "data": {
      "text/plain": [
       "Dog    44235\n",
       "Cat    29418\n",
       "Name: animal_type, dtype: int64"
      ]
     },
     "execution_count": 443,
     "metadata": {},
     "output_type": "execute_result"
    }
   ],
   "source": [
    "data = data.loc[ data['animal_type'].isin(['Dog', 'Cat'])]\n",
    "data['animal_type'].value_counts()"
   ]
  },
  {
   "cell_type": "markdown",
   "metadata": {},
   "source": [
    "Очистив датасет от всякой прочей живности мы подошли к бинарному признаку вида животного (или Кошка или Собака)"
   ]
  },
  {
   "cell_type": "code",
   "execution_count": 444,
   "metadata": {},
   "outputs": [
    {
     "data": {
      "text/plain": [
       "1.0    44235\n",
       "0.0    29418\n",
       "Name: A_type, dtype: int64"
      ]
     },
     "execution_count": 444,
     "metadata": {},
     "output_type": "execute_result"
    }
   ],
   "source": [
    "data.loc[data.animal_type.str.contains('Dog'), 'A_type']           = 1\n",
    "data.loc[data.animal_type.str.contains('Cat'), 'A_type']           = 0                                 \n",
    "data.A_type.value_counts()"
   ]
  },
  {
   "cell_type": "markdown",
   "metadata": {},
   "source": [
    "Породы / breed"
   ]
  },
  {
   "cell_type": "code",
   "execution_count": 445,
   "metadata": {},
   "outputs": [
    {
     "data": {
      "text/plain": [
       "Domestic Shorthair Mix      23331\n",
       "Pit Bull Mix                 6133\n",
       "Chihuahua Shorthair Mix      4733\n",
       "Labrador Retriever Mix       4607\n",
       "Domestic Medium Hair Mix     2323\n",
       "Name: breed, dtype: int64"
      ]
     },
     "execution_count": 445,
     "metadata": {},
     "output_type": "execute_result"
    }
   ],
   "source": [
    "data.breed.value_counts().head()"
   ]
  },
  {
   "cell_type": "markdown",
   "metadata": {},
   "source": [
    "В составе поля Breed,  помимо собственно классификатора породы вижу дополнительные признаки :  Mix (чистота породы) и Hair (Мохнатость),  выделим признаки в отдельный столбец \n",
    "\n",
    "Далее выделим наиболее характерные породы животных и установим признак соответствия каждого животного наиболее характерным породам"
   ]
  },
  {
   "cell_type": "code",
   "execution_count": 446,
   "metadata": {},
   "outputs": [
    {
     "name": "stderr",
     "output_type": "stream",
     "text": [
      "C:\\Users\\admin\\Anaconda3\\lib\\site-packages\\ipykernel_launcher.py:29: FutureWarning: Passing integers to fillna is deprecated, will raise a TypeError in a future version.  To retain the old behavior, pass pd.Timedelta(seconds=n) instead.\n"
     ]
    }
   ],
   "source": [
    "data['breed'] = data.breed.str.lower()\n",
    "\n",
    "data.loc[data.breed.str.contains('mix'),        'Breed_Mix']   = 1\n",
    "data.loc[data.breed.str.contains('/'  ),        'Breed_Mix']   = 1                                 \n",
    "data.loc[data.breed.str.contains('shorthair'),  'Hair_short']  = 1\n",
    "data.loc[data.breed.str.contains('medium hair'), 'Hair_medium'] = 1\n",
    "data.loc[data.breed.str.contains('longhair'),   'Hair_long']   = 1     \n",
    "\n",
    "\n",
    "data.loc[data.breed.str.contains('bull'),      'Breed_bull']      = 1\n",
    "data.loc[data.breed.str.contains('retriever'), 'Breed_retriever'] = 1\n",
    "data.loc[data.breed.str.contains('shepherd'),  'Breed_shepherd']  = 1\n",
    "data.loc[data.breed.str.contains('poodle'),    'Breed_poodle']    = 1\n",
    "data.loc[data.breed.str.contains('collie'),    'Breed_collie']    = 1\n",
    "data.loc[data.breed.str.contains('terrier'),   'Breed_terrier']   = 1\n",
    "data.loc[data.breed.str.contains('husky'),     'Breed_husky']     = 1\n",
    "data.loc[data.breed.str.contains('beagle'),    'Breed_beagle']    = 1\n",
    "data.loc[data.breed.str.contains('dachshund'), 'Breed_dachshund'] = 1\n",
    "data.loc[data.breed.str.contains('heeler'),    'Breed_heeler']    = 1\n",
    "data.loc[data.breed.str.contains('australian cattle'\n",
    "                                            ), 'Breed_heeler']    = 1\n",
    "data.loc[data.breed.str.contains('chihuahua'), 'Breed_chihuahua'] = 1\n",
    "data.loc[data.breed.str.contains('boxer'),     'Breed_boxer']     = 1\n",
    "data.loc[data.breed.str.contains('catahoula'), 'Breed_catahoula'] = 1\n",
    "data.loc[data.breed.str.contains('schnauzer'), 'Breed_schnauzer'] = 1\n",
    "data.loc[data.breed.str.contains('domestic'),  'Breed_domestic']  = 1\n",
    "data.loc[data.breed.str.contains('siamese'),   'Breed_siamese']   = 1\n",
    "\n",
    "data = data.fillna(0)"
   ]
  },
  {
   "cell_type": "markdown",
   "metadata": {},
   "source": [
    "Посмотрим, насколько отобранные признаки пород животных характеризуют общую выборку"
   ]
  },
  {
   "cell_type": "code",
   "execution_count": 447,
   "metadata": {},
   "outputs": [
    {
     "name": "stdout",
     "output_type": "stream",
     "text": [
      "Отобранные признаки пород собак информативно покрывают базовую выборку на  88.99162288026285 процентов\n"
     ]
    },
    {
     "name": "stderr",
     "output_type": "stream",
     "text": [
      "C:\\Users\\admin\\Anaconda3\\lib\\site-packages\\ipykernel_launcher.py:2: SettingWithCopyWarning: \n",
      "A value is trying to be set on a copy of a slice from a DataFrame.\n",
      "Try using .loc[row_indexer,col_indexer] = value instead\n",
      "\n",
      "See the caveats in the documentation: http://pandas.pydata.org/pandas-docs/stable/user_guide/indexing.html#returning-a-view-versus-a-copy\n",
      "  \n"
     ]
    }
   ],
   "source": [
    "d = data.iloc[:,[27,28,29,30,31,32,33,34,35,36,37,38,39,40,41,42]]\n",
    "d['max_f']     = d.max(axis=1)\n",
    "print('Отобранные признаки пород собак информативно покрывают базовую выборку на ',\n",
    "      (100* d[d['max_f']>0].shape[0]/data.shape[0]), 'процентов')"
   ]
  },
  {
   "cell_type": "markdown",
   "metadata": {},
   "source": [
    "# Цвет"
   ]
  },
  {
   "cell_type": "code",
   "execution_count": 448,
   "metadata": {},
   "outputs": [
    {
     "name": "stdout",
     "output_type": "stream",
     "text": [
      "Итого цветов в датасете 496\n",
      "Наиболее часто используются цвета:   \n",
      " Black/White          7889\n",
      "Black                6324\n",
      "Brown Tabby          4445\n",
      "White                2647\n",
      "Brown/White          2402\n",
      "Tan/White            2382\n",
      "Brown Tabby/White    2338\n",
      "Orange Tabby         2180\n",
      "Blue/White           2068\n",
      "White/Black          2005\n",
      "Name: color, dtype: int64\n"
     ]
    }
   ],
   "source": [
    "print('Итого цветов в датасете' , data.color.value_counts().shape[0])\n",
    "print('Наиболее часто используются цвета:   \\n' , data.color.value_counts().head(10))"
   ]
  },
  {
   "cell_type": "markdown",
   "metadata": {},
   "source": [
    "Выделим наиболее часто встречающиеся цвета по выборке и определим степень соответствия окраса каждому из выбранных цветов"
   ]
  },
  {
   "cell_type": "code",
   "execution_count": 449,
   "metadata": {},
   "outputs": [],
   "source": [
    "data.loc[data.color.str.contains('Black'), 'color_black'] = 1\n",
    "data.loc[data.color.str.contains('White'), 'color_white'] = 1\n",
    "data.loc[data.color.str.contains('Brown'), 'color_brown'] = 1\n",
    "data.loc[data.color.str.contains('Orange'),'color_orange']= 1\n",
    "data.loc[data.color.str.contains('Blue'),  'color_blue']  = 1\n",
    "data.loc[data.color.str.contains('Tortie'),'color_brown'] = 1\n",
    "data.loc[data.color.str.contains('Red'),   'color_red']   = 1\n",
    "data.loc[data.color.str.contains('Yellow'),'color_yellow']= 1\n",
    "data.loc[data.color.str.contains('Gray'),  'color_gray']  = 1\n",
    "data.loc[data.color.str.contains('/'),     'color_mix']   = 1"
   ]
  },
  {
   "cell_type": "code",
   "execution_count": 450,
   "metadata": {},
   "outputs": [
    {
     "name": "stdout",
     "output_type": "stream",
     "text": [
      "Black  22982 наблюдений (включая смешанные)\n",
      "White  33840 наблюдений (включая смешанные)\n",
      "Orange 3639 наблюдений (включая смешанные)\n",
      "Gray   1293 наблюдений (включая смешанные)\n"
     ]
    }
   ],
   "source": [
    "# Итого имеем уже:\n",
    "\n",
    "print('Black ', data.color_black.value_counts()[1], 'наблюдений (включая смешанные)')\n",
    "print('White ', data.color_white.value_counts()[1], 'наблюдений (включая смешанные)')\n",
    "print('Orange', data.color_orange.value_counts()[1], 'наблюдений (включая смешанные)')\n",
    "print('Gray  ', data.color_gray.value_counts()[1], 'наблюдений (включая смешанные)')"
   ]
  },
  {
   "cell_type": "code",
   "execution_count": 451,
   "metadata": {},
   "outputs": [
    {
     "name": "stdout",
     "output_type": "stream",
     "text": [
      "Отобранные цвета информативно покрывают базовую выборку на  85.99513936974733 процентов\n"
     ]
    },
    {
     "name": "stderr",
     "output_type": "stream",
     "text": [
      "C:\\Users\\admin\\Anaconda3\\lib\\site-packages\\ipykernel_launcher.py:2: SettingWithCopyWarning: \n",
      "A value is trying to be set on a copy of a slice from a DataFrame.\n",
      "Try using .loc[row_indexer,col_indexer] = value instead\n",
      "\n",
      "See the caveats in the documentation: http://pandas.pydata.org/pandas-docs/stable/user_guide/indexing.html#returning-a-view-versus-a-copy\n",
      "  \n"
     ]
    }
   ],
   "source": [
    "d_col = data.iloc[:,[43,44,45,46,47,48,49,50]]\n",
    "d_col['max_c'] = d_col.max(axis=1)\n",
    "print('Отобранные цвета информативно покрывают базовую выборку на ',\n",
    "      (100* d_col[d_col['max_c']>0].shape[0]/data.shape[0]), 'процентов')"
   ]
  },
  {
   "cell_type": "markdown",
   "metadata": {},
   "source": [
    "# Пол"
   ]
  },
  {
   "cell_type": "code",
   "execution_count": 452,
   "metadata": {
    "scrolled": true
   },
   "outputs": [
    {
     "name": "stdout",
     "output_type": "stream",
     "text": [
      "Нет информации по полу питомца в отношении  2764 наблюдений\n",
      "Распределение неизвестных по полу и виду животного ясности не прибавляет\n"
     ]
    },
    {
     "data": {
      "text/plain": [
       "domestic shorthair mix      2204\n",
       "domestic medium hair mix     166\n",
       "siamese mix                   50\n",
       "domestic longhair mix         47\n",
       "labrador retriever mix        45\n",
       "chihuahua shorthair mix       26\n",
       "american shorthair mix        21\n",
       "domestic shorthair            21\n",
       "pit bull mix                  20\n",
       "dachshund mix                 15\n",
       "Name: breed, dtype: int64"
      ]
     },
     "execution_count": 452,
     "metadata": {},
     "output_type": "execute_result"
    }
   ],
   "source": [
    "print('Нет информации по полу питомца в отношении ', \n",
    "      data[data.sex_upon_outcome == 'Unknown'].shape[0], 'наблюдений')\n",
    "print('Распределение неизвестных по полу и виду животного ясности не прибавляет') \n",
    "data[(data.sex_upon_outcome == 'Unknown')].breed.value_counts().head(10)"
   ]
  },
  {
   "cell_type": "markdown",
   "metadata": {},
   "source": [
    "принял упрощенное 'спорное' решение, определил Пол в качестве признака, подобного бинарному (1 - мальчик, 0 - девочка),  неизвестный пол определил как условное среднее  = 0.5"
   ]
  },
  {
   "cell_type": "code",
   "execution_count": 453,
   "metadata": {},
   "outputs": [
    {
     "data": {
      "text/plain": [
       "1.0    36868\n",
       "0.0    34020\n",
       "0.5     2765\n",
       "Name: sex, dtype: int64"
      ]
     },
     "execution_count": 453,
     "metadata": {},
     "output_type": "execute_result"
    }
   ],
   "source": [
    "data.loc[data.sex_upon_outcome == 'Neutered Male', 'sex'] = 1\n",
    "data.loc[data.sex_upon_outcome == 'Intact Male',   'sex'] = 1\n",
    "data.loc[data.sex_upon_outcome == 'Spayed Female', 'sex'] = 0\n",
    "data.loc[data.sex_upon_outcome == 'Intact Female', 'sex'] = 0\n",
    "data.loc[data.sex_upon_outcome == 'Unknown',       'sex'] = 0.5 \n",
    "data.loc[data.sex_upon_outcome == 0,               'sex'] = 0.5\n",
    "\n",
    "data.loc[data.sex_upon_outcome == 'Neutered Male', 'sterilize'] = 1\n",
    "data.loc[data.sex_upon_outcome == 'Intact Male',   'sterilize'] = 0\n",
    "data.loc[data.sex_upon_outcome == 'Spayed Female', 'sterilize'] = 1\n",
    "data.loc[data.sex_upon_outcome == 'Intact Female', 'sterilize'] = 0\n",
    "data.loc[data.sex_upon_outcome == 'Unknown',       'sterilize'] = 0\n",
    "data.loc[data.sex_upon_outcome == 0,               'sterilize'] = 0\n",
    "\n",
    "data.sex.value_counts()"
   ]
  },
  {
   "cell_type": "markdown",
   "metadata": {},
   "source": [
    "# Имя"
   ]
  },
  {
   "cell_type": "markdown",
   "metadata": {},
   "source": [
    "возможные  подходы к классификации признака: \n",
    "\n",
    "а) каждое имя  - есть отдельный информативный признак и NoName - отдельный признак\n",
    "\n",
    "b) каждое из топ 10 имен - есть отдельный и информативный признак и OtherNames  и NoName - отдельные признаки\n",
    "\n",
    "с) всего 2 признака Name и NoName\n",
    "\n",
    "посмотрим распределение по именам"
   ]
  },
  {
   "cell_type": "code",
   "execution_count": 454,
   "metadata": {},
   "outputs": [
    {
     "data": {
      "text/plain": [
       "0            19827\n",
       "Bella          342\n",
       "Max            318\n",
       "Luna           237\n",
       "Rocky          235\n",
       "             ...  \n",
       "Ellabelle        1\n",
       "*Runah           1\n",
       "Dagger           1\n",
       "*Gargamel        1\n",
       "Toonchi          1\n",
       "Name: name, Length: 14388, dtype: int64"
      ]
     },
     "execution_count": 454,
     "metadata": {},
     "output_type": "execute_result"
    }
   ],
   "source": [
    "data.name.value_counts()"
   ]
  },
  {
   "cell_type": "code",
   "execution_count": 455,
   "metadata": {},
   "outputs": [
    {
     "name": "stdout",
     "output_type": "stream",
     "text": [
      "Всего нулевых значений по полю имя в датасете 19827 , что составляет  26.919473748523483 % от общего количества наблюдений.\n"
     ]
    }
   ],
   "source": [
    "print('Всего нулевых значений по полю имя в датасете', data[data.name==0].shape[0], \n",
    "      ', что составляет ', \n",
    "       100* data[data.name==0].shape[0] / data.shape[0],\n",
    "      '% от общего количества наблюдений.')"
   ]
  },
  {
   "cell_type": "code",
   "execution_count": 456,
   "metadata": {},
   "outputs": [
    {
     "name": "stdout",
     "output_type": "stream",
     "text": [
      "Всего имен в датасете 14388 . На каждое имя в среднем имеем 5.119057547956631 наблюдений, мало для стат анализа.\n",
      "На Топ 10 имен имен в датасете приходится 22042 наблюдений, что составляет всего 29.926819002620395 % от всех наблюдений,  что тоже не густо\n"
     ]
    }
   ],
   "source": [
    "print('Всего имен в датасете', data['name'].value_counts().size, \n",
    "      '. На каждое имя в среднем имеем', \n",
    "      (data.shape[0] / data['name'].value_counts().size),\n",
    "      'наблюдений, мало для стат анализа.')\n",
    "print('На Топ 10 имен имен в датасете приходится', data['name'].value_counts().head(10).sum(), 'наблюдений,',\n",
    "      'что составляет всего', 100 * data['name'].value_counts().head(10).sum() / data.shape[0], '% от всех наблюдений, ',\n",
    "      'что тоже не густо')"
   ]
  },
  {
   "cell_type": "markdown",
   "metadata": {},
   "source": [
    "Отсутствие имени у животного - вполне самостоятельный признак, способный влиять на способность адаптации животного \n",
    "\n",
    "если есть имя - животное уже было домашним, имеет навыки общения с человеком\n",
    "\n",
    "при этом само имя (наименование имени) классификации не поддается\n",
    "\n",
    "Принимаем 3 вариант - по имени выделяем 2 признака : Name и NoName"
   ]
  },
  {
   "cell_type": "code",
   "execution_count": 457,
   "metadata": {},
   "outputs": [
    {
     "name": "stderr",
     "output_type": "stream",
     "text": [
      "C:\\Users\\admin\\Anaconda3\\lib\\site-packages\\ipykernel_launcher.py:2: FutureWarning: Passing integers to fillna is deprecated, will raise a TypeError in a future version.  To retain the old behavior, pass pd.Timedelta(seconds=n) instead.\n",
      "  \n"
     ]
    }
   ],
   "source": [
    "data.loc[data.name !=0,  'name'] = 1\n",
    "data = data.fillna(0)"
   ]
  },
  {
   "cell_type": "markdown",
   "metadata": {},
   "source": [
    "Убираем все лишние столбцы датасета"
   ]
  },
  {
   "cell_type": "code",
   "execution_count": 466,
   "metadata": {},
   "outputs": [
    {
     "data": {
      "text/plain": [
       "Index(['A_type', 'Breed_Mix', 'Breed_bull', 'Breed_retriever',\n",
       "       'Breed_shepherd', 'Breed_poodle', 'Breed_collie', 'Breed_terrier',\n",
       "       'Breed_husky', 'Breed_beagle', 'Breed_dachshund', 'Breed_heeler',\n",
       "       'Breed_chihuahua', 'Breed_boxer', 'Breed_catahoula', 'Breed_schnauzer',\n",
       "       'Breed_domestic', 'Breed_siamese', 'Hair_short', 'Hair_medium',\n",
       "       'Hair_long', 'color_black', 'color_white', 'color_brown',\n",
       "       'color_orange', 'color_blue', 'color_red', 'color_yellow', 'color_gray',\n",
       "       'color_mix', 'sex', 'sterilize', 'age_estimate_year', 'birth_year',\n",
       "       'name', 'Adoption', 'Transfer'],\n",
       "      dtype='object')"
      ]
     },
     "execution_count": 466,
     "metadata": {},
     "output_type": "execute_result"
    }
   ],
   "source": [
    "data = data.iloc[:,[ 22,\n",
    "                     23,27,28,29,30,31,32,33,34,35,36,37,38,39,40,41,42,\n",
    "                     24,25,26,\n",
    "                     43,44,45,46,47,48,49,50,51,\n",
    "                     52,53,\n",
    "                     20,21,\n",
    "                     9,\n",
    "                     13,18]]\n",
    "data.columns"
   ]
  },
  {
   "cell_type": "code",
   "execution_count": 472,
   "metadata": {},
   "outputs": [],
   "source": [
    "Atype_ = [0]\n",
    "Breed_ = [1,2,3,4,5,6,7,8,9,10,11,12,13,14,15,16,17]\n",
    "Hair_  = [17,18,19]\n",
    "Color_ = [20,21,22,23,24,25,26,27,28,29]\n",
    "Sex_   = [30]\n",
    "Ster_  = [31]\n",
    "BirthY_= [33]\n",
    "Age_   = [32]\n",
    "Name_  = [34]\n",
    "Adopt_ = [35]\n",
    "Trans_ = [36]"
   ]
  },
  {
   "cell_type": "markdown",
   "metadata": {},
   "source": [
    "####  Тестируем признаки и выбираем лучший"
   ]
  },
  {
   "cell_type": "markdown",
   "metadata": {},
   "source": [
    "Базовый сценарий - используем все признаки определяем влияние на Adoptation"
   ]
  },
  {
   "cell_type": "code",
   "execution_count": 557,
   "metadata": {},
   "outputs": [],
   "source": [
    "def err_regress (feature_col, res_col, d = data):\n",
    "    X = d.iloc[:,feature_col]\n",
    "    y = d.iloc[:,res_col]\n",
    "    reg = LinearRegression().fit(X, y)\n",
    "    print('Weights: {}'.format(reg.coef_))\n",
    "    print('Bias: {}'.format(reg.intercept_))\n",
    "    pred_values = reg.predict(X)\n",
    "    print('Error: {}'.format(mean_absolute_error(pred_values, y))) "
   ]
  },
  {
   "cell_type": "code",
   "execution_count": 558,
   "metadata": {},
   "outputs": [
    {
     "name": "stdout",
     "output_type": "stream",
     "text": [
      "Weights: [[-0.117  0.043 -0.077  0.019  0.019  0.015  0.031  0.024 -0.037  0.035\n",
      "   0.045  0.047  0.127 -0.004  0.019  0.016  0.025 -0.014 -0.014 -0.089\n",
      "  -0.08  -0.05  -0.007 -0.006 -0.001 -0.011  0.016 -0.023 -0.043 -0.054\n",
      "   0.02  -0.038  0.554  0.022 -0.02   0.094]]\n",
      "Bias: [-43.55]\n",
      "Error: 0.35349524348733075\n"
     ]
    }
   ],
   "source": [
    "err_regress(Atype_+Breed_+Hair_+Color_+Sex_+Ster_+BirthY_+Age_+Name_, Adopt_)"
   ]
  },
  {
   "cell_type": "code",
   "execution_count": 559,
   "metadata": {},
   "outputs": [],
   "source": [
    "def feature_report (feature_col, res_col, d = data):\n",
    "    output_y = d.iloc[:,res_col]\n",
    "    input_x  = d.iloc[:,feature_col]\n",
    "    le=LabelEncoder()\n",
    "    targets=(output_y==1)\n",
    "    Y= le.fit_transform(targets)\n",
    "    x_train, x_test, y_train, y_test = train_test_split(input_x, \n",
    "                                                        Y, \n",
    "                                                        test_size = 0.2, \n",
    "                                                        random_state = 1000)\n",
    "    model=RandomForestClassifier(n_estimators=100)\n",
    "    model.fit(x_train,y_train)\n",
    "    model_pred = model.predict(x_test)\n",
    "    print(classification_report(y_test, model_pred))\n",
    "    print('Точность модели составила (%)', 100*model.score(x_test, y_test))\n",
    "    # формируем рэнкинг параметров по уровню значимости влияния на платежный статус\n",
    "    headers = list(input_x.columns.values)\n",
    "    feature_imp = pd.Series(model.feature_importances_,index=headers).sort_values(ascending=False)\n",
    "    f, ax = plt.subplots(figsize=(6, 6))\n",
    "    sns.barplot(x=feature_imp, y=feature_imp.index)\n",
    "    plt.xlabel('Уровень значимости параметров')\n",
    "    plt.ylabel('Параметры')\n",
    "    plt.title('Рэнкинг значимости параметров')\n",
    "    plt.show()"
   ]
  },
  {
   "cell_type": "code",
   "execution_count": 560,
   "metadata": {},
   "outputs": [
    {
     "name": "stderr",
     "output_type": "stream",
     "text": [
      "C:\\Users\\admin\\Anaconda3\\lib\\site-packages\\sklearn\\utils\\validation.py:73: DataConversionWarning: A column-vector y was passed when a 1d array was expected. Please change the shape of y to (n_samples, ), for example using ravel().\n",
      "  return f(**kwargs)\n"
     ]
    },
    {
     "name": "stdout",
     "output_type": "stream",
     "text": [
      "              precision    recall  f1-score   support\n",
      "\n",
      "           0       0.78      0.75      0.77      8143\n",
      "           1       0.71      0.74      0.73      6588\n",
      "\n",
      "    accuracy                           0.75     14731\n",
      "   macro avg       0.75      0.75      0.75     14731\n",
      "weighted avg       0.75      0.75      0.75     14731\n",
      "\n",
      "Точность модели составила (%) 74.92363043920983\n"
     ]
    },
    {
     "data": {
      "image/png": "[encoded data removed]",
      "text/plain": [
       "<Figure size 432x432 with 1 Axes>"
      ]
     },
     "metadata": {},
     "output_type": "display_data"
    }
   ],
   "source": [
    "feature_report(Atype_+Breed_+Hair_+Color_+Sex_+Ster_+BirthY_+Age_+Name_, Adopt_)"
   ]
  },
  {
   "cell_type": "markdown",
   "metadata": {},
   "source": [
    "Берем лучшие 3 признака: Возраст,  Наличие имени, Факт стерилизации  - ничего не теряем в информативности модели, взгляните:"
   ]
  },
  {
   "cell_type": "code",
   "execution_count": 500,
   "metadata": {},
   "outputs": [
    {
     "name": "stderr",
     "output_type": "stream",
     "text": [
      "C:\\Users\\admin\\Anaconda3\\lib\\site-packages\\sklearn\\utils\\validation.py:73: DataConversionWarning: A column-vector y was passed when a 1d array was expected. Please change the shape of y to (n_samples, ), for example using ravel().\n",
      "  return f(**kwargs)\n"
     ]
    },
    {
     "name": "stdout",
     "output_type": "stream",
     "text": [
      "              precision    recall  f1-score   support\n",
      "\n",
      "           0       0.79      0.75      0.77      8143\n",
      "           1       0.71      0.75      0.73      6588\n",
      "\n",
      "    accuracy                           0.75     14731\n",
      "   macro avg       0.75      0.75      0.75     14731\n",
      "weighted avg       0.75      0.75      0.75     14731\n",
      "\n",
      "Точность модели составила (%) 75.1408594121241\n"
     ]
    },
    {
     "data": {
      "image/png": "[encoded data removed]",
      "text/plain": [
       "<Figure size 432x432 with 1 Axes>"
      ]
     },
     "metadata": {},
     "output_type": "display_data"
    }
   ],
   "source": [
    "feature_report(Ster_+Age_+Name_, Adopt_)"
   ]
  },
  {
   "cell_type": "markdown",
   "metadata": {},
   "source": [
    "Добавление породы в модель может ее улучшить (возможно), проверим:"
   ]
  },
  {
   "cell_type": "code",
   "execution_count": 511,
   "metadata": {},
   "outputs": [
    {
     "name": "stderr",
     "output_type": "stream",
     "text": [
      "C:\\Users\\admin\\Anaconda3\\lib\\site-packages\\sklearn\\utils\\validation.py:73: DataConversionWarning: A column-vector y was passed when a 1d array was expected. Please change the shape of y to (n_samples, ), for example using ravel().\n",
      "  return f(**kwargs)\n"
     ]
    },
    {
     "name": "stdout",
     "output_type": "stream",
     "text": [
      "              precision    recall  f1-score   support\n",
      "\n",
      "           0       0.79      0.76      0.78      8143\n",
      "           1       0.72      0.76      0.74      6588\n",
      "\n",
      "    accuracy                           0.76     14731\n",
      "   macro avg       0.76      0.76      0.76     14731\n",
      "weighted avg       0.76      0.76      0.76     14731\n",
      "\n",
      "Точность модели составила (%) 75.85364197949902\n"
     ]
    },
    {
     "data": {
      "image/png": "[encoded data removed]",
      "text/plain": [
       "<Figure size 432x432 with 1 Axes>"
      ]
     },
     "metadata": {},
     "output_type": "display_data"
    }
   ],
   "source": [
    "feature_report(Breed_+Ster_+Age_+Name_, Adopt_)"
   ]
  },
  {
   "cell_type": "markdown",
   "metadata": {},
   "source": [
    "А если вместо породы в модель включить различение по виду животного и не углубляться в детали получится еще лучше:"
   ]
  },
  {
   "cell_type": "code",
   "execution_count": 513,
   "metadata": {},
   "outputs": [
    {
     "name": "stderr",
     "output_type": "stream",
     "text": [
      "C:\\Users\\admin\\Anaconda3\\lib\\site-packages\\sklearn\\utils\\validation.py:73: DataConversionWarning: A column-vector y was passed when a 1d array was expected. Please change the shape of y to (n_samples, ), for example using ravel().\n",
      "  return f(**kwargs)\n"
     ]
    },
    {
     "name": "stdout",
     "output_type": "stream",
     "text": [
      "              precision    recall  f1-score   support\n",
      "\n",
      "           0       0.81      0.75      0.78      8143\n",
      "           1       0.72      0.78      0.75      6588\n",
      "\n",
      "    accuracy                           0.76     14731\n",
      "   macro avg       0.76      0.76      0.76     14731\n",
      "weighted avg       0.77      0.76      0.76     14731\n",
      "\n",
      "Точность модели составила (%) 76.22700427669541\n"
     ]
    },
    {
     "data": {
      "image/png": "[encoded data removed]",
      "text/plain": [
       "<Figure size 432x432 with 1 Axes>"
      ]
     },
     "metadata": {},
     "output_type": "display_data"
    }
   ],
   "source": [
    "feature_report(Atype_+Ster_+Age_+Name_, Adopt_)"
   ]
  },
  {
   "cell_type": "markdown",
   "metadata": {},
   "source": [
    "\n",
    "Outcome_type метка Transfer\n",
    "\n"
   ]
  },
  {
   "cell_type": "code",
   "execution_count": 515,
   "metadata": {},
   "outputs": [
    {
     "name": "stderr",
     "output_type": "stream",
     "text": [
      "C:\\Users\\admin\\Anaconda3\\lib\\site-packages\\sklearn\\utils\\validation.py:73: DataConversionWarning: A column-vector y was passed when a 1d array was expected. Please change the shape of y to (n_samples, ), for example using ravel().\n",
      "  return f(**kwargs)\n"
     ]
    },
    {
     "name": "stdout",
     "output_type": "stream",
     "text": [
      "              precision    recall  f1-score   support\n",
      "\n",
      "           0       0.82      0.89      0.86     10173\n",
      "           1       0.71      0.57      0.64      4558\n",
      "\n",
      "    accuracy                           0.80     14731\n",
      "   macro avg       0.77      0.73      0.75     14731\n",
      "weighted avg       0.79      0.80      0.79     14731\n",
      "\n",
      "Точность модели составила (%) 79.57368814065576\n"
     ]
    },
    {
     "data": {
      "image/png": "[encoded data removed]",
      "text/plain": [
       "<Figure size 432x432 with 1 Axes>"
      ]
     },
     "metadata": {},
     "output_type": "display_data"
    }
   ],
   "source": [
    "feature_report(Atype_+Breed_+Hair_+Color_+Sex_+Ster_+BirthY_+Age_+Name_, Trans_)\n",
    "# Вероятность предсказания выше, состав и иерархия признаков примерно такая же"
   ]
  },
  {
   "cell_type": "code",
   "execution_count": 516,
   "metadata": {},
   "outputs": [
    {
     "name": "stdout",
     "output_type": "stream",
     "text": [
      "Weights: [[-0.053 -0.015 -0.025 -0.006 -0.027 -0.03  -0.015 -0.004 -0.108 -0.015\n",
      "   0.015 -0.006 -0.062 -0.027 -0.011 -0.008 -0.028  0.001  0.001  0.072\n",
      "   0.062  0.034  0.004  0.017 -0.003  0.005 -0.022  0.002 -0.022  0.01\n",
      "  -0.024 -0.008 -0.383 -0.016 -0.015 -0.203]]\n",
      "Bias: [33.607]\n",
      "Error: 0.30553498627888964\n"
     ]
    }
   ],
   "source": [
    "err_regress (Atype_+Breed_+Hair_+Color_+Sex_+Ster_+BirthY_+Age_+Name_, Trans_)"
   ]
  },
  {
   "cell_type": "code",
   "execution_count": 517,
   "metadata": {},
   "outputs": [
    {
     "name": "stderr",
     "output_type": "stream",
     "text": [
      "C:\\Users\\admin\\Anaconda3\\lib\\site-packages\\sklearn\\utils\\validation.py:73: DataConversionWarning: A column-vector y was passed when a 1d array was expected. Please change the shape of y to (n_samples, ), for example using ravel().\n",
      "  return f(**kwargs)\n"
     ]
    },
    {
     "name": "stdout",
     "output_type": "stream",
     "text": [
      "              precision    recall  f1-score   support\n",
      "\n",
      "           0       0.81      0.94      0.87     10173\n",
      "           1       0.79      0.51      0.62      4558\n",
      "\n",
      "    accuracy                           0.81     14731\n",
      "   macro avg       0.80      0.73      0.75     14731\n",
      "weighted avg       0.81      0.81      0.79     14731\n",
      "\n",
      "Точность модели составила (%) 80.82954314031635\n"
     ]
    },
    {
     "data": {
      "image/png": "[encoded data removed]",
      "text/plain": [
       "<Figure size 432x432 with 1 Axes>"
      ]
     },
     "metadata": {},
     "output_type": "display_data"
    }
   ],
   "source": [
    "feature_report(Atype_+Sex_+Ster_+Age_+Name_, Trans_)"
   ]
  },
  {
   "cell_type": "code",
   "execution_count": 518,
   "metadata": {},
   "outputs": [
    {
     "name": "stderr",
     "output_type": "stream",
     "text": [
      "C:\\Users\\admin\\Anaconda3\\lib\\site-packages\\sklearn\\utils\\validation.py:73: DataConversionWarning: A column-vector y was passed when a 1d array was expected. Please change the shape of y to (n_samples, ), for example using ravel().\n",
      "  return f(**kwargs)\n"
     ]
    },
    {
     "name": "stdout",
     "output_type": "stream",
     "text": [
      "              precision    recall  f1-score   support\n",
      "\n",
      "           0       0.83      0.93      0.88     10173\n",
      "           1       0.79      0.56      0.66      4558\n",
      "\n",
      "    accuracy                           0.82     14731\n",
      "   macro avg       0.81      0.75      0.77     14731\n",
      "weighted avg       0.82      0.82      0.81     14731\n",
      "\n",
      "Точность модели составила (%) 81.8342271400448\n"
     ]
    },
    {
     "data": {
      "image/png": "[encoded data removed]",
      "text/plain": [
       "<Figure size 432x432 with 1 Axes>"
      ]
     },
     "metadata": {},
     "output_type": "display_data"
    }
   ],
   "source": [
    "feature_report (Atype_+Ster_+Age_+Name_, Trans_)"
   ]
  },
  {
   "cell_type": "code",
   "execution_count": 524,
   "metadata": {},
   "outputs": [
    {
     "name": "stderr",
     "output_type": "stream",
     "text": [
      "C:\\Users\\admin\\Anaconda3\\lib\\site-packages\\sklearn\\utils\\validation.py:73: DataConversionWarning: A column-vector y was passed when a 1d array was expected. Please change the shape of y to (n_samples, ), for example using ravel().\n",
      "  return f(**kwargs)\n"
     ]
    },
    {
     "name": "stdout",
     "output_type": "stream",
     "text": [
      "              precision    recall  f1-score   support\n",
      "\n",
      "           0       0.83      0.93      0.87     10173\n",
      "           1       0.78      0.57      0.66      4558\n",
      "\n",
      "    accuracy                           0.82     14731\n",
      "   macro avg       0.80      0.75      0.77     14731\n",
      "weighted avg       0.81      0.82      0.81     14731\n",
      "\n",
      "Точность модели составила (%) 81.63057497793768\n"
     ]
    },
    {
     "data": {
      "image/png": "[encoded data removed]",
      "text/plain": [
       "<Figure size 432x432 with 1 Axes>"
      ]
     },
     "metadata": {},
     "output_type": "display_data"
    }
   ],
   "source": [
    "feature_report (Breed_+Ster_+Age_+Name_, Trans_)"
   ]
  },
  {
   "cell_type": "markdown",
   "metadata": {},
   "source": [
    "А кстати: \n",
    "\n",
    "Классификационный тест Хи квадрат полностью подтверждает сделанные выше выводы:"
   ]
  },
  {
   "cell_type": "code",
   "execution_count": 540,
   "metadata": {},
   "outputs": [
    {
     "data": {
      "text/html": [
       "<div>\n",
       "<style scoped>\n",
       "    .dataframe tbody tr th:only-of-type {\n",
       "        vertical-align: middle;\n",
       "    }\n",
       "\n",
       "    .dataframe tbody tr th {\n",
       "        vertical-align: top;\n",
       "    }\n",
       "\n",
       "    .dataframe thead th {\n",
       "        text-align: right;\n",
       "    }\n",
       "</style>\n",
       "<table border=\"1\" class=\"dataframe\">\n",
       "  <thead>\n",
       "    <tr style=\"text-align: right;\">\n",
       "      <th></th>\n",
       "      <th>feature</th>\n",
       "      <th>rate</th>\n",
       "    </tr>\n",
       "  </thead>\n",
       "  <tbody>\n",
       "    <tr>\n",
       "      <td>32</td>\n",
       "      <td>age_estimate_year</td>\n",
       "      <td>7836.42</td>\n",
       "    </tr>\n",
       "    <tr>\n",
       "      <td>31</td>\n",
       "      <td>sterilize</td>\n",
       "      <td>4881.01</td>\n",
       "    </tr>\n",
       "    <tr>\n",
       "      <td>34</td>\n",
       "      <td>name</td>\n",
       "      <td>855.42</td>\n",
       "    </tr>\n",
       "    <tr>\n",
       "      <td>2</td>\n",
       "      <td>Breed_bull</td>\n",
       "      <td>189.49</td>\n",
       "    </tr>\n",
       "    <tr>\n",
       "      <td>28</td>\n",
       "      <td>color_gray</td>\n",
       "      <td>103.19</td>\n",
       "    </tr>\n",
       "  </tbody>\n",
       "</table>\n",
       "</div>"
      ],
      "text/plain": [
       "              feature     rate\n",
       "32  age_estimate_year  7836.42\n",
       "31          sterilize  4881.01\n",
       "34               name   855.42\n",
       "2          Breed_bull   189.49\n",
       "28         color_gray   103.19"
      ]
     },
     "execution_count": 540,
     "metadata": {},
     "output_type": "execute_result"
    }
   ],
   "source": [
    "# Feature Extraction with Univariate Statistical Tests (Chi-squared for classification)\n",
    "\n",
    "from sklearn.feature_selection import SelectKBest\n",
    "from sklearn.feature_selection import chi2\n",
    "\n",
    "array = data.values\n",
    "X = array[:,0:35]\n",
    "Y = array[:,35]\n",
    "\n",
    "# feature extraction\n",
    "test = SelectKBest(score_func=chi2, k=4)\n",
    "fit = test.fit(X, Y)\n",
    "\n",
    "# summarize scores\n",
    "np.set_printoptions(precision=3)\n",
    "\n",
    "list_of_features = list(zip(data.columns, fit.scores_.round(2)))  \n",
    "df = pd.DataFrame(list_of_features, columns = ['feature', 'rate'])  \n",
    "\n",
    "df.sort_values(by = ['rate'], ascending = False).head(5)"
   ]
  },
  {
   "cell_type": "markdown",
   "metadata": {},
   "source": [
    "интересно, а для котов так же все,  как и в  среднем по больнице?"
   ]
  },
  {
   "cell_type": "code",
   "execution_count": 561,
   "metadata": {},
   "outputs": [
    {
     "data": {
      "text/html": [
       "<div>\n",
       "<style scoped>\n",
       "    .dataframe tbody tr th:only-of-type {\n",
       "        vertical-align: middle;\n",
       "    }\n",
       "\n",
       "    .dataframe tbody tr th {\n",
       "        vertical-align: top;\n",
       "    }\n",
       "\n",
       "    .dataframe thead th {\n",
       "        text-align: right;\n",
       "    }\n",
       "</style>\n",
       "<table border=\"1\" class=\"dataframe\">\n",
       "  <thead>\n",
       "    <tr style=\"text-align: right;\">\n",
       "      <th></th>\n",
       "      <th>feature</th>\n",
       "      <th>rate</th>\n",
       "    </tr>\n",
       "  </thead>\n",
       "  <tbody>\n",
       "    <tr>\n",
       "      <td>31</td>\n",
       "      <td>sterilize</td>\n",
       "      <td>4466.31</td>\n",
       "    </tr>\n",
       "    <tr>\n",
       "      <td>34</td>\n",
       "      <td>name</td>\n",
       "      <td>2803.62</td>\n",
       "    </tr>\n",
       "    <tr>\n",
       "      <td>32</td>\n",
       "      <td>age_estimate_year</td>\n",
       "      <td>937.87</td>\n",
       "    </tr>\n",
       "    <tr>\n",
       "      <td>28</td>\n",
       "      <td>color_gray</td>\n",
       "      <td>84.00</td>\n",
       "    </tr>\n",
       "    <tr>\n",
       "      <td>29</td>\n",
       "      <td>color_mix</td>\n",
       "      <td>9.82</td>\n",
       "    </tr>\n",
       "  </tbody>\n",
       "</table>\n",
       "</div>"
      ],
      "text/plain": [
       "              feature     rate\n",
       "31          sterilize  4466.31\n",
       "34               name  2803.62\n",
       "32  age_estimate_year   937.87\n",
       "28         color_gray    84.00\n",
       "29          color_mix     9.82"
      ]
     },
     "execution_count": 561,
     "metadata": {},
     "output_type": "execute_result"
    }
   ],
   "source": [
    "array = data[data.A_type==0].values\n",
    "X_c = array[:,0:35]\n",
    "Y_c = array[:,35]\n",
    "\n",
    "# feature extraction\n",
    "test = SelectKBest(score_func=chi2, k=4)\n",
    "fit = test.fit(X_c, Y_c)\n",
    "\n",
    "# summarize scores\n",
    "np.set_printoptions(precision=3)\n",
    "\n",
    "list_of_features = list(zip(data.columns, fit.scores_.round(2)))  \n",
    "df = pd.DataFrame(list_of_features, columns = ['feature', 'rate'])  \n",
    "\n",
    "df.sort_values(by = ['rate'], ascending = False).head(5)"
   ]
  },
  {
   "cell_type": "markdown",
   "metadata": {},
   "source": [
    "почти ... но приоритеты другие"
   ]
  },
  {
   "cell_type": "code",
   "execution_count": null,
   "metadata": {},
   "outputs": [],
   "source": []
  },
  {
   "cell_type": "code",
   "execution_count": null,
   "metadata": {},
   "outputs": [],
   "source": []
  },
  {
   "cell_type": "code",
   "execution_count": 549,
   "metadata": {},
   "outputs": [],
   "source": [
    "X = data.iloc[:,Atype_+Breed_+Hair_+Color_+Sex_+Ster_+BirthY_+Age_+Name_]\n",
    "y = data.iloc[:,Adopt_]\n",
    "\n",
    "from sklearn.model_selection import train_test_split\n",
    "X_train, X_test, y_train, y_test = train_test_split(X, y, test_size=0.30, stratify=y)"
   ]
  },
  {
   "cell_type": "code",
   "execution_count": 550,
   "metadata": {},
   "outputs": [],
   "source": [
    "from sklearn.preprocessing import StandardScaler\n",
    "stand_scaler = StandardScaler()\n",
    "X_train_scaled = stand_scaler.fit_transform(X_train)\n",
    "X_test_scaled = stand_scaler.transform(X_test)\n",
    "y_train = np.array(y_train)\n",
    "y_test = np.array(y_test)"
   ]
  },
  {
   "cell_type": "code",
   "execution_count": 545,
   "metadata": {},
   "outputs": [
    {
     "data": {
      "image/png": "[encoded data removed]",
      "text/plain": [
       "<Figure size 720x288 with 1 Axes>"
      ]
     },
     "metadata": {},
     "output_type": "display_data"
    },
    {
     "data": {
      "text/plain": [
       "None"
      ]
     },
     "metadata": {},
     "output_type": "display_data"
    },
    {
     "data": {
      "text/html": [
       "<div>\n",
       "<style scoped>\n",
       "    .dataframe tbody tr th:only-of-type {\n",
       "        vertical-align: middle;\n",
       "    }\n",
       "\n",
       "    .dataframe tbody tr th {\n",
       "        vertical-align: top;\n",
       "    }\n",
       "\n",
       "    .dataframe thead th {\n",
       "        text-align: right;\n",
       "    }\n",
       "</style>\n",
       "<table border=\"1\" class=\"dataframe\">\n",
       "  <thead>\n",
       "    <tr style=\"text-align: right;\">\n",
       "      <th></th>\n",
       "      <th>Cumulative Variance Ratio</th>\n",
       "      <th>Explained Variance Ratio</th>\n",
       "    </tr>\n",
       "  </thead>\n",
       "  <tbody>\n",
       "    <tr>\n",
       "      <td>0</td>\n",
       "      <td>0.107225</td>\n",
       "      <td>0.107225</td>\n",
       "    </tr>\n",
       "    <tr>\n",
       "      <td>1</td>\n",
       "      <td>0.167069</td>\n",
       "      <td>0.059844</td>\n",
       "    </tr>\n",
       "    <tr>\n",
       "      <td>2</td>\n",
       "      <td>0.219818</td>\n",
       "      <td>0.052749</td>\n",
       "    </tr>\n",
       "    <tr>\n",
       "      <td>3</td>\n",
       "      <td>0.264911</td>\n",
       "      <td>0.045093</td>\n",
       "    </tr>\n",
       "    <tr>\n",
       "      <td>4</td>\n",
       "      <td>0.305702</td>\n",
       "      <td>0.040791</td>\n",
       "    </tr>\n",
       "    <tr>\n",
       "      <td>5</td>\n",
       "      <td>0.344380</td>\n",
       "      <td>0.038677</td>\n",
       "    </tr>\n",
       "    <tr>\n",
       "      <td>6</td>\n",
       "      <td>0.381803</td>\n",
       "      <td>0.037423</td>\n",
       "    </tr>\n",
       "    <tr>\n",
       "      <td>7</td>\n",
       "      <td>0.416786</td>\n",
       "      <td>0.034983</td>\n",
       "    </tr>\n",
       "    <tr>\n",
       "      <td>8</td>\n",
       "      <td>0.449848</td>\n",
       "      <td>0.033063</td>\n",
       "    </tr>\n",
       "    <tr>\n",
       "      <td>9</td>\n",
       "      <td>0.481412</td>\n",
       "      <td>0.031563</td>\n",
       "    </tr>\n",
       "  </tbody>\n",
       "</table>\n",
       "</div>"
      ],
      "text/plain": [
       "   Cumulative Variance Ratio  Explained Variance Ratio\n",
       "0                   0.107225                  0.107225\n",
       "1                   0.167069                  0.059844\n",
       "2                   0.219818                  0.052749\n",
       "3                   0.264911                  0.045093\n",
       "4                   0.305702                  0.040791\n",
       "5                   0.344380                  0.038677\n",
       "6                   0.381803                  0.037423\n",
       "7                   0.416786                  0.034983\n",
       "8                   0.449848                  0.033063\n",
       "9                   0.481412                  0.031563"
      ]
     },
     "metadata": {},
     "output_type": "display_data"
    }
   ],
   "source": [
    "from sklearn.decomposition import PCA\n",
    "\n",
    "pca_test = PCA(n_components=30)\n",
    "pca_test.fit(X_train_scaled)\n",
    "plt.figure(figsize=(10,4)) \n",
    "plt.plot(np.cumsum(pca_test.explained_variance_ratio_))\n",
    "plt.xlabel('number of components')\n",
    "plt.ylabel('cumulative explained variance')\n",
    "display(plt.show())\n",
    "\n",
    "evr = pca_test.explained_variance_ratio_\n",
    "cvr = np.cumsum(pca_test.explained_variance_ratio_)\n",
    "pca_df = pd.DataFrame()\n",
    "pca_df['Cumulative Variance Ratio'] = cvr\n",
    "pca_df['Explained Variance Ratio'] = evr\n",
    "display(pca_df.head(10))"
   ]
  },
  {
   "cell_type": "code",
   "execution_count": null,
   "metadata": {},
   "outputs": [],
   "source": []
  },
  {
   "cell_type": "code",
   "execution_count": null,
   "metadata": {},
   "outputs": [],
   "source": []
  }
 ],
 "metadata": {
  "kernelspec": {
   "display_name": "Python 3",
   "language": "python",
   "name": "python3"
  },
  "language_info": {
   "codemirror_mode": {
    "name": "ipython",
    "version": 3
   },
   "file_extension": ".py",
   "mimetype": "text/x-python",
   "name": "python",
   "nbconvert_exporter": "python",
   "pygments_lexer": "ipython3",
   "version": "3.7.4"
  }
 },
 "nbformat": 4,
 "nbformat_minor": 2
}
